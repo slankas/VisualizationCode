{
 "cells": [
  {
   "cell_type": "code",
   "execution_count": null,
   "metadata": {},
   "outputs": [],
   "source": [
    "install.packages(\"titanic\")"
   ]
  },
  {
   "cell_type": "code",
   "execution_count": null,
   "metadata": {},
   "outputs": [],
   "source": [
    "library(ggplot2)\n",
    "library(titanic)"
   ]
  },
  {
   "cell_type": "code",
   "execution_count": null,
   "metadata": {},
   "outputs": [],
   "source": [
    "str(mpg)"
   ]
  },
  {
   "cell_type": "code",
   "execution_count": null,
   "metadata": {
    "scrolled": true
   },
   "outputs": [],
   "source": [
    "head(mpg)"
   ]
  },
  {
   "cell_type": "markdown",
   "metadata": {},
   "source": [
    "Murder: Murder arrests (per 100,000)\n",
    "\n",
    "Assault: Assault arrests (per 100,000)\n",
    "\n",
    "UrbanPop: Percent urban population\n",
    "\n",
    "Rape: Rape arrests (per 100,000)"
   ]
  },
  {
   "cell_type": "code",
   "execution_count": null,
   "metadata": {
    "scrolled": true
   },
   "outputs": [],
   "source": [
    "USArrests"
   ]
  },
  {
   "cell_type": "code",
   "execution_count": null,
   "metadata": {},
   "outputs": [],
   "source": [
    "?USArrests"
   ]
  },
  {
   "cell_type": "code",
   "execution_count": null,
   "metadata": {},
   "outputs": [],
   "source": [
    "head(titanic_train)\n"
   ]
  },
  {
   "cell_type": "code",
   "execution_count": null,
   "metadata": {},
   "outputs": [],
   "source": [
    "head(titanic_train)"
   ]
  },
  {
   "cell_type": "markdown",
   "metadata": {},
   "source": [
    "# Visaulizing Quantitites\n",
    "## Bar Plots"
   ]
  },
  {
   "cell_type": "code",
   "execution_count": null,
   "metadata": {},
   "outputs": [],
   "source": [
    "ggplot(data=mpg, aes(x=manufacturer)) +\n",
    "  geom_bar(width=0.7, fill=\"steelblue\")+\n",
    "  theme_minimal()"
   ]
  },
  {
   "cell_type": "code",
   "execution_count": null,
   "metadata": {},
   "outputs": [],
   "source": [
    "ggplot(data=mpg, aes(x=manufacturer)) +\n",
    "  geom_bar(width=0.7, fill=\"steelblue\")+\n",
    "  theme_minimal() + coord_flip()"
   ]
  },
  {
   "cell_type": "markdown",
   "metadata": {},
   "source": [
    "## Stacked Bar Chart\n",
    "The black outline is ugly and unnecessary, but just displaying that option"
   ]
  },
  {
   "cell_type": "code",
   "execution_count": null,
   "metadata": {},
   "outputs": [],
   "source": [
    "ggplot(data=mpg, aes(x=manufacturer,fill=class)) +\n",
    "  geom_bar(width=0.7, color=\"black\")+\n",
    "  theme_minimal() + coord_flip()"
   ]
  },
  {
   "cell_type": "markdown",
   "metadata": {},
   "source": [
    "## Grouped Bar Chart\n",
    "Use position_dodge()"
   ]
  },
  {
   "cell_type": "code",
   "execution_count": null,
   "metadata": {},
   "outputs": [],
   "source": [
    "ggplot(data=mpg, aes(x=manufacturer,fill=class)) +\n",
    "  geom_bar(width=0.7, color=\"black\", position=position_dodge())+\n",
    "  theme_minimal() + coord_flip() "
   ]
  },
  {
   "cell_type": "markdown",
   "metadata": {},
   "source": [
    "## Change the Fill Colors and Adding Counts\n",
    "Using RColorBrewer\n",
    "https://www.nceas.ucsb.edu/~frazier/RSpatialGuides/colorPaletteCheatsheet.pdf"
   ]
  },
  {
   "cell_type": "code",
   "execution_count": null,
   "metadata": {
    "scrolled": true
   },
   "outputs": [],
   "source": [
    "ggplot(data=mpg, aes(x=manufacturer,fill=class)) +\n",
    "  geom_bar(width=0.7)+ \n",
    "  geom_text(aes(label=..count..),stat=\"count\",position=position_stack(0.5)) +\n",
    "  theme_minimal() + \n",
    "  coord_flip() + \n",
    "  scale_fill_brewer(palette=\"Set3\") \n"
   ]
  },
  {
   "cell_type": "markdown",
   "metadata": {},
   "source": [
    "# Faceting\n",
    "Fata can be split up by one or two variables that vary on the horizontal and/or vertical direcdtion.\n",
    "\n",
    "This is done by giving a formula to facet_grid(), of the form vertical ~ horizontal."
   ]
  },
  {
   "cell_type": "code",
   "execution_count": null,
   "metadata": {},
   "outputs": [],
   "source": [
    "ggplot(data=mpg, aes(x=manufacturer)) +\n",
    "  geom_bar(width=0.7)+ coord_flip() + scale_fill_brewer(palette=\"Set3\") + facet_grid(. ~ class)"
   ]
  },
  {
   "cell_type": "code",
   "execution_count": null,
   "metadata": {},
   "outputs": [],
   "source": [
    "ggplot(data=mpg, aes(x=manufacturer)) +\n",
    "  geom_bar(width=0.7)+ coord_flip() + scale_fill_brewer(palette=\"Set3\") + facet_grid(cyl ~ class)"
   ]
  },
  {
   "cell_type": "markdown",
   "metadata": {},
   "source": [
    "## Sorting by Frequency\n",
    "```\n",
    "forcats::fct_infreq(category)\n",
    "```"
   ]
  },
  {
   "cell_type": "code",
   "execution_count": null,
   "metadata": {},
   "outputs": [],
   "source": [
    "ggplot(data=mpg, aes(x=forcats::fct_infreq(manufacturer))) +\n",
    "  geom_bar(width=0.7, fill=\"steelblue\")+\n",
    "  theme_minimal() + coord_flip()"
   ]
  },
  {
   "cell_type": "markdown",
   "metadata": {},
   "source": [
    "## Clevand Dot Plot"
   ]
  },
  {
   "cell_type": "code",
   "execution_count": null,
   "metadata": {},
   "outputs": [],
   "source": [
    "ggplot(USArrests, aes(x=Murder,y=row.names(USArrests))) + geom_point()"
   ]
  },
  {
   "cell_type": "code",
   "execution_count": null,
   "metadata": {},
   "outputs": [],
   "source": [
    "ggplot(USArrests, aes(x=Murder,y=reorder(row.names(USArrests),Murder))) + geom_point()"
   ]
  },
  {
   "cell_type": "code",
   "execution_count": null,
   "metadata": {
    "scrolled": false
   },
   "outputs": [],
   "source": [
    "ggplot(USArrests, aes(x=Murder,y=reorder(row.names(USArrests),Murder))) + \n",
    "      geom_point(size=2.5,color=\"steelblue\") +\n",
    "      xlab(\"Murders per 100,000 residents\") +\n",
    "      ylab(\"State\") +\n",
    "      ggtitle(\"Murders by State in 1973\") +theme_minimal()"
   ]
  },
  {
   "cell_type": "markdown",
   "metadata": {},
   "source": [
    "## Visualizing Distributions"
   ]
  },
  {
   "cell_type": "code",
   "execution_count": null,
   "metadata": {
    "scrolled": false
   },
   "outputs": [],
   "source": [
    "ggplot(data = titanic_train) +\n",
    "  geom_histogram(mapping = aes(x = Age), bins =20, fill=\"steelblue\", color=\"white\") +\n",
    "  theme_minimal() "
   ]
  },
  {
   "cell_type": "code",
   "execution_count": null,
   "metadata": {},
   "outputs": [],
   "source": [
    "ggplot(data = titanic_train) +\n",
    "  geom_density(mapping = aes(x = Age), bins =20, fill=\"steelblue\", color=\"white\") +\n",
    "  theme_minimal()"
   ]
  },
  {
   "cell_type": "code",
   "execution_count": null,
   "metadata": {},
   "outputs": [],
   "source": [
    "ggplot(data = titanic_train) +\n",
    "  geom_freqpoly(mapping = aes(x = Age), bins =20)  +\n",
    "  theme_minimal() + xlim(0, 85)"
   ]
  },
  {
   "cell_type": "code",
   "execution_count": null,
   "metadata": {},
   "outputs": [],
   "source": [
    "ggplot(data = titanic_train) +\n",
    " geom_area(aes(y = ..count.., fill = Age, x=Age), stat = \"bin\", bins=20, fill=\"steelblue\") +\n",
    "  theme_minimal() + xlim(0, 85)"
   ]
  },
  {
   "cell_type": "code",
   "execution_count": null,
   "metadata": {},
   "outputs": [],
   "source": [
    "ggplot(data = titanic_train) +\n",
    "  geom_histogram(mapping = aes(x = Age, fill=Sex), bins =20) +\n",
    "  theme_minimal() "
   ]
  },
  {
   "cell_type": "code",
   "execution_count": null,
   "metadata": {
    "scrolled": false
   },
   "outputs": [],
   "source": [
    "ggplot(data = titanic_train) +\n",
    " geom_area(aes(y = ..count.., fill=Sex, x=Age, color=Sex), stat = \"bin\", bins=20) +\n",
    "  theme_minimal() + xlim(0, 85)"
   ]
  },
  {
   "cell_type": "code",
   "execution_count": null,
   "metadata": {},
   "outputs": [],
   "source": [
    "ggplot(titanic_train, aes(Age, fill = Sex)) +\n",
    "  geom_density(alpha = 0.3)"
   ]
  },
  {
   "cell_type": "code",
   "execution_count": null,
   "metadata": {},
   "outputs": [],
   "source": [
    "ggplot(data = titanic_train, mapping = aes(x = Survived, fill = Sex)) +\n",
    "    geom_bar() +\n",
    "    geom_text(aes(label=..count..),stat=\"count\",position=position_stack(0.5)) + theme_minimal()"
   ]
  },
  {
   "cell_type": "code",
   "execution_count": null,
   "metadata": {},
   "outputs": [],
   "source": [
    "ggplot(data=titanic_train,aes(x=Age,fill=Sex)) + \n",
    "  geom_bar(data=subset(titanic_train,Sex==\"female\"),stat = \"bin\", bins=25) + \n",
    "  geom_bar(data=subset(titanic_train,Sex==\"male\"),stat = \"bin\",bins=25,aes(y=..count..*(-1))) + \n",
    "  scale_y_continuous(breaks=seq(-40,40,10),labels=abs(seq(-40,40,10))) +\n",
    "  coord_flip() + theme_minimal() "
   ]
  },
  {
   "cell_type": "markdown",
   "metadata": {},
   "source": [
    "## Cumulative Distributions"
   ]
  },
  {
   "cell_type": "code",
   "execution_count": null,
   "metadata": {},
   "outputs": [],
   "source": [
    "set.seed(1234)\n",
    "df <- data.frame(height = round(rnorm(200, mean=60, sd=15)))\n",
    "head(df)"
   ]
  },
  {
   "cell_type": "code",
   "execution_count": null,
   "metadata": {
    "scrolled": false
   },
   "outputs": [],
   "source": [
    "ggplot(df, aes(height)) + stat_ecdf(geom = \"point\")\n",
    "ggplot(df, aes(height)) + stat_ecdf(geom = \"step\")"
   ]
  },
  {
   "cell_type": "code",
   "execution_count": null,
   "metadata": {
    "scrolled": false
   },
   "outputs": [],
   "source": [
    "ggplot(df, aes(height)) + \n",
    "   stat_ecdf(geom = \"step\") + \n",
    "   stat_ecdf(geom = \"point\", color=\"steelblue\") +\n",
    "   labs(title=\"Empirical Cumulative \\n Density Function\",\n",
    "        y = \"F(height)\", x=\"Height in inch\") + \n",
    "   expand_limits(x = 0, y = 0) +\n",
    "   theme_classic()"
   ]
  },
  {
   "cell_type": "code",
   "execution_count": null,
   "metadata": {},
   "outputs": [],
   "source": [
    "library(datasets)"
   ]
  },
  {
   "cell_type": "code",
   "execution_count": null,
   "metadata": {},
   "outputs": [],
   "source": [
    "data(airquality)\n",
    "airquality$Month <- factor(airquality$Month,\n",
    "                           labels = c(\"May\", \"Jun\", \"Jul\", \"Aug\", \"Sep\"))"
   ]
  },
  {
   "cell_type": "code",
   "execution_count": null,
   "metadata": {
    "scrolled": false
   },
   "outputs": [],
   "source": [
    "ggplot(airquality, aes(x = Month, y = Ozone)) +\n",
    "        geom_boxplot()"
   ]
  },
  {
   "cell_type": "code",
   "execution_count": null,
   "metadata": {
    "scrolled": false
   },
   "outputs": [],
   "source": [
    "fill <- \"#4271AE\"\n",
    "line <- \"#1F3552\"\n",
    "p = ggplot(airquality, aes(x = Month, y = Ozone)) +\n",
    "        geom_boxplot(fill = fill, color = line, alpha = 0.7,\n",
    "                     outlier.color = \"#1F3552\", outlier.shape = 20) +\n",
    "        scale_y_continuous(name = \"Mean ozone in\\nparts per billion\",\n",
    "                           breaks = seq(0, 175, 25),\n",
    "                           limits=c(0, 175)) +\n",
    "        scale_x_discrete(name = \"Month\") +\n",
    "        ggtitle(\"Boxplot of mean ozone by month\") +\n",
    "        theme_bw()\n",
    "p"
   ]
  },
  {
   "cell_type": "code",
   "execution_count": null,
   "metadata": {
    "scrolled": false
   },
   "outputs": [],
   "source": [
    "p + geom_jitter()"
   ]
  },
  {
   "cell_type": "code",
   "execution_count": null,
   "metadata": {},
   "outputs": [],
   "source": [
    "fill <- \"#4271AE\"\n",
    "line <- \"#1F3552\"\n",
    "p = ggplot(airquality, aes(x = Month, y = Ozone)) +\n",
    "        geom_violin(fill = fill, color = line, alpha = 0.7\n",
    "                     ) +\n",
    "        scale_y_continuous(name = \"Mean ozone in\\nparts per billion\",\n",
    "                           breaks = seq(0, 175, 25),\n",
    "                           limits=c(0, 175)) +\n",
    "        scale_x_discrete(name = \"Month\") +\n",
    "        ggtitle(\"Violin Plot of mean ozone by month\") +\n",
    "        theme_bw()\n",
    "p"
   ]
  },
  {
   "cell_type": "code",
   "execution_count": null,
   "metadata": {},
   "outputs": [],
   "source": [
    "## Scatterplot"
   ]
  },
  {
   "cell_type": "code",
   "execution_count": null,
   "metadata": {},
   "outputs": [],
   "source": [
    "ggplot(mpg, aes(x=displ, y=hwy, color=class)) + geom_point()"
   ]
  },
  {
   "cell_type": "markdown",
   "metadata": {},
   "source": [
    "## Review Exercises\n",
    "R contains a number of built-in datasets in addition to those installed by various packages.  You can view this list of available datasets by executing ```data()```.  Typing the dataset name by itself will shows you a preview of the dataframe. You can execute ```str(datasetName)``` and ```summary(datasetName)``` to get more information about the dataset.\n",
    "\n",
    "Select a one or of these datasets and then create similar visualizations to those shown in this notebook.\n",
    "\n",
    "As an example, the ```iris``` dataset is often used to demostrate relationships.  Create a scatter plot where the data is ```iris```, the x axis is ```Sepal.Length```, the y axis is ```Petal.Width```, and the color is ```Species```"
   ]
  },
  {
   "cell_type": "code",
   "execution_count": null,
   "metadata": {},
   "outputs": [],
   "source": []
  }
 ],
 "metadata": {
  "kernelspec": {
   "display_name": "R",
   "language": "R",
   "name": "ir"
  },
  "language_info": {
   "codemirror_mode": "r",
   "file_extension": ".r",
   "mimetype": "text/x-r-source",
   "name": "R",
   "pygments_lexer": "r",
   "version": "3.6.1"
  }
 },
 "nbformat": 4,
 "nbformat_minor": 2
}
