{
 "cells": [
  {
   "cell_type": "markdown",
   "metadata": {
    "_uuid": "83d4fa0bf3a37ad61f80e265bb5c71d922023c5d"
   },
   "source": [
    "**About the Analysis:**\n",
    "\n",
    "When I chose to become one of the respondents in this survey, the most important thing that was in my mind was to know about the characteristics of Women in Data. There were lot of relevant questions asked in this survey and I am sure I will find some answers and relate myself to one of the categories in this community. I am mainly focussing on women kagglers( with no offence to any other category), and this is just out of curiosity. I will definitely compare the results arrived with all other categories as well, but that will be towards the end of this analysis, where there are a lot of questions related to barriers faced while coding. \n",
    "\n",
    "So, without further ado, let's try to make a fairly simple(read the visualizations) and impactful(I hope to find something interesting) analysis. "
   ]
  },
  {
   "cell_type": "markdown",
   "metadata": {
    "_uuid": "25a1b5ee8b610b58c3251cb7207582adae4d1250"
   },
   "source": [
    "**We will start with, Loading the Libraries and checking the data**"
   ]
  },
  {
   "cell_type": "code",
   "execution_count": null,
   "metadata": {
    "_execution_state": "idle",
    "_kg_hide-output": true,
    "_uuid": "3910d360084fa6c7a819d7a4d5f4a4d57826bfab"
   },
   "outputs": [],
   "source": [
    "library('tidyverse') \n",
    "library('leaflet')\n",
    "library('ggmap')\n",
    "library('GGally')\n",
    "library('viridis')\n",
    "library('plotly')\n",
    "library('IRdisplay')\n",
    "library('ggrepel')\n",
    "library('cowplot')\n",
    "\n",
    "options(warn = -1)\n",
    "\n",
    "list.files(path = \"../input\")"
   ]
  },
  {
   "cell_type": "code",
   "execution_count": null,
   "metadata": {
    "_kg_hide-output": true,
    "_uuid": "3b3e9fa0ca89a978c6b5230735e6742809108e86"
   },
   "outputs": [],
   "source": [
    "multichoice <- read_csv(\"./2018Survey/multipleChoiceResponses.csv\")\n",
    "#names(multichoice) <- as.data.frame(multichoice[1,])\n",
    "#multichoice <- multichoice[-1,]"
   ]
  },
  {
   "cell_type": "code",
   "execution_count": null,
   "metadata": {
    "_kg_hide-output": true,
    "_uuid": "44b3dee023723c3b86d86d442d7285f23f58e01a"
   },
   "outputs": [],
   "source": [
    "str(multichoice)"
   ]
  },
  {
   "cell_type": "code",
   "execution_count": null,
   "metadata": {
    "_uuid": "e5bf1891d0784627b522be96b17561e9a37dd9a7"
   },
   "outputs": [],
   "source": [
    "head(multichoice)"
   ]
  },
  {
   "cell_type": "markdown",
   "metadata": {
    "_uuid": "475c8905892cbd86770fd666621beda84c9e2ff6"
   },
   "source": [
    "**1- Percentage of Wogglers**\n",
    "\n",
    "Out of the total respondents in the survey, we find that around **16.81%** are **Female Kagglers**. Males form a larger part of the community with **81.44% **. Few respondents **preferred not to say(1.43%)** and few preferred to **self describe(0.33%). **"
   ]
  },
  {
   "cell_type": "code",
   "execution_count": null,
   "metadata": {
    "_kg_hide-input": true,
    "_uuid": "04a09fbd5752df821dccc84b16fe9bceeaad579b"
   },
   "outputs": [],
   "source": [
    "theme1 <- theme_bw()+theme(text = element_text(size=20),\n",
    "                           legend.position = 'none', plot.title = element_text(hjust = 0.5))\n",
    "\n",
    "options(repr.plot.width=12, repr.plot.height=6)\n",
    "\n",
    "multichoice[-1,] %>% group_by(Q1)%>%summarise(Count = length(Q1))%>%\n",
    "mutate(pct = prop.table(Count)*100)%>%\n",
    "    ggplot(aes(x = reorder(Q1, -pct), y = pct, fill = Q1)) + \n",
    "   geom_bar(stat = 'identity') + scale_fill_brewer(palette=\"Set1\",  na.value = \"gray\")+\n",
    "    geom_text(aes(label = sprintf(\"%.2f%%\", pct)), hjust = 0.5,\n",
    "            vjust = -0.5, size =5)+ theme1+  xlab(\"\") + ylab(\"Percent\")+\n",
    "              ggtitle(\"Respondents Gender\")"
   ]
  },
  {
   "cell_type": "markdown",
   "metadata": {
    "_uuid": "8adda103f0ff5e0eee6d5a2e8bdf398d9cce648f"
   },
   "source": [
    "**2- What is her age? \"Age is just a number for her\"**\n",
    "\n",
    "I am amazed, there is a variety of age groups in this section. Honestly, I was expecting to see the ranges upto 45, but we have few women kagglers who are** 60+, 70+ and even 80+** years of age. This is so inspiring. \n",
    "\n",
    "While **comparing** the age ranges of **female and male kagglers**, I found that the **percent** of **female** kagglers is higher than male kagglers in the age ranges of **22-24 (by 5%)** and **25-29(around 2%).** "
   ]
  },
  {
   "cell_type": "code",
   "execution_count": null,
   "metadata": {
    "_kg_hide-input": true,
    "_uuid": "8f670e3391f04f0025cb83e7e456eaf2dcc8da41"
   },
   "outputs": [],
   "source": [
    "options(repr.plot.width=12, repr.plot.height=8)\n",
    "\n",
    "multichoice$Q2 <- factor(multichoice$Q2, \n",
    "                         level = c(\"18-21\",\"22-24\",\"25-29\",\n",
    "                                   \"30-34\",\"35-39\",\"40-44\",\n",
    "                                   \"45-49\",\"50-54\",\"55-59\",\n",
    "                                   \"60-69\",\"70-79\",\"80+\"))\n",
    "\n",
    "multichoice %>% \n",
    "group_by(Q1,Q2)%>%\n",
    "filter(Q1 == \"Female\"| Q1== \"Male\")%>%\n",
    "summarise(Count = length(Q2))%>%\n",
    "mutate(pct = prop.table(Count)*100)%>%\n",
    "ggplot(aes(x = Q2, y = pct, fill = pct)) + \n",
    "   geom_bar(stat = 'identity') + scale_fill_viridis(direction = -1)+\n",
    "    facet_grid(Q1~.)+\n",
    "    geom_text(aes(label = sprintf(\"%.2f%%\", pct)), hjust = 0.5,\n",
    "            vjust = -0.1, size =4)+ theme1+  xlab(\"\") + ylab(\"Percent\")+\n",
    "              ggtitle(\"Age Comparison\")"
   ]
  },
  {
   "cell_type": "markdown",
   "metadata": {
    "_uuid": "46b73361b42d58efa86985ba81cadd5b0d2357a6"
   },
   "source": [
    "**3- What is her Country? \"Ohh!! I miss you African Kagglers\"**\n",
    "\n",
    "This is quite intuitive, most of the wome kagglers belong to **USA, India **followed by** China**. Great going. I am really happy for women from India(you have conquered all the barriers and made me happy- I can feel your challenges). But, on the other hand, the **African popuation** are** less** represented in kaggle, be it any category. Out of many African countries, only** Egypt, Nigeria, Kenya** are the only countries that are appearing in this survey. \n",
    "\n",
    "Another stark difference can be seen here is that **Female** Kagglers from **USA** are far **more** in percent as compared to **Indian female** kagglers. However, this is **not the case** when it comes to their **male counterparts**. **Male kagglers** from **India **slightly** outnumber** **male kagglers** from **USA**. \n",
    "\n",
    "Please read** \"UK & NI\"** as **United Kingdom of Great Britain and Northern Ireland.**"
   ]
  },
  {
   "cell_type": "code",
   "execution_count": null,
   "metadata": {
    "_kg_hide-input": true,
    "_uuid": "06bba9ba2c64b32c8dc62662e118ee400a81fdb8"
   },
   "outputs": [],
   "source": [
    "options(repr.plot.width=12, repr.plot.height=10)\n",
    "\n",
    "#Replacing the long titles, for making the plots convinient\n",
    "multichoice$Q3 <- \n",
    "str_replace(multichoice$Q3, \"United Kingdom of Great Britain and Northern Ireland\",\"UK & NI\" )\n",
    "\n",
    "multichoice$Q3 <- \n",
    "str_replace(multichoice$Q3, \"I do not wish to disclose my location\",\"Won't disclose\" )\n",
    "\n",
    "multichoice$Q3 <- \n",
    "str_replace(multichoice$Q3, \"Iran, Islamic Republic of...\",\"Iran\" )\n",
    "\n",
    "\n",
    "multichoice$Q3 <- \n",
    "str_replace(multichoice$Q3, \"United States of America\",\"USA\" )\n",
    "\n",
    "#Setting the theme for the plots\n",
    "theme2 <- theme_bw()+theme(text = element_text(size=15),\n",
    "                           axis.text.x = element_text(angle = 0, hjust = 1))+\n",
    "theme(legend.position = 'none', plot.title = element_text(hjust = 0.5))\n",
    "\n",
    "multichoice[-1,] %>% \n",
    "group_by(Q1,Q3)%>%\n",
    "filter(Q1 == \"Female\"| Q1== \"Male\")%>%\n",
    "summarise(Count = length(Q3))%>%\n",
    "mutate(pct = prop.table(Count)*100)%>%\n",
    "ggplot(aes(x = reorder(Q3,pct), y = pct, fill = pct)) + \n",
    "   geom_bar(stat = 'identity') + scale_fill_viridis(direction= -1)+\n",
    "    facet_wrap(Q1~.)+\n",
    "        theme2+  xlab(\"\") + ylab(\"Percent\")+coord_flip()+\n",
    "              ggtitle(\"Country\")"
   ]
  },
  {
   "cell_type": "markdown",
   "metadata": {
    "_uuid": "7734c5b1165d25257147577912bba958016a9b89"
   },
   "source": [
    "**Country-Age_Gender Comparison: **\n",
    "\n",
    "There are few respondents who are 80+ years of in both Male and Female categories, which is very inspiring. I wanted to see which country they belong to, and no points for guessing, **most of the 80+** respondents are from **USA. **\n",
    "\n",
    "Another striking difference, I found between India and USA (the top two countries w.r.t numbers in kaggle), have completely different trend with respect to age. In **USA**, the **participation increases** with **increase in age **and in **India** it is the other way round. The **participation decreases** with **increase in age. **\n",
    "\n",
    "I have included all countries, so that kagglers will know about their respective countries. "
   ]
  },
  {
   "cell_type": "code",
   "execution_count": null,
   "metadata": {
    "_kg_hide-input": true,
    "_uuid": "5ebbceecd0717dd58c55918a8ed347095d57394b"
   },
   "outputs": [],
   "source": [
    "theme2.1 <- theme_bw()+theme(text = element_text(size=15),\n",
    "                           axis.text.x = element_text(angle = 30, hjust = 1))+\n",
    "theme(legend.position = 'none', plot.title = element_text(hjust = 0.5))\n",
    "\n",
    "\n",
    "multichoice[] %>% \n",
    "group_by(Q1,Q2,Q3)%>%\n",
    "filter(Q1 == \"Female\"| Q1== \"Male\")%>%\n",
    "summarise(Count = length(Q2))%>%\n",
    "mutate(pct = prop.table(Count)*100)%>%\n",
    "ggplot(aes(x = Q2, y = Q3, fill = pct)) + \n",
    "   geom_tile() + scale_fill_viridis(direction= -1)+\n",
    "    facet_wrap(Q1~.)+\n",
    "     theme2.1+  xlab(\"\") + ylab(\" \")+\n",
    "       ggtitle(\"Country-Age-Gender Comparison\")"
   ]
  },
  {
   "cell_type": "markdown",
   "metadata": {
    "_uuid": "fb66c843862ee7abdc0e8ce79f164d8ebe462d87"
   },
   "source": [
    "**4- How educated is she? \"Well she is Jack of all trades and Master of all as well.\"**\n",
    "\n",
    "A whooping **52%** of Women in Kaggle have **Master's Degree**, which is around **7% higher** than their **male counter ****parts.** Higher education does matter. This is also the case in case of Doctoral Degree holders. This indicates that females with Master's and above degree are more likely to come to this platform, as compared to their male counterparts.\n",
    "\n",
    "\n",
    "\n",
    "But we should not miss that **0.41% women** who have **no formal education **but are still coding. Now this is inspiring. "
   ]
  },
  {
   "cell_type": "code",
   "execution_count": null,
   "metadata": {
    "_kg_hide-input": true,
    "_uuid": "f7a510e08333f98665ece8c859e75b197bf4ffa0"
   },
   "outputs": [],
   "source": [
    "multichoice %>% \n",
    "group_by(Q1,Q4)%>%\n",
    "filter(Q1 == \"Female\"|Q1==\"Male\")%>%\n",
    "filter(!is.na(Q4))%>%\n",
    "summarise(Count = length(Q4))%>%\n",
    "mutate(pct = prop.table(Count)*100)%>%\n",
    "ggplot(aes(x = reorder(Q4, -pct), y = pct, fill = Q4)) + \n",
    "   geom_bar(stat = 'identity') + scale_fill_brewer(palette=\"Set1\",  na.value = \"gray\")+\n",
    "    facet_grid(Q1~.)+\n",
    "    geom_text(aes(label = sprintf(\"%.2f%%\", pct)), hjust = 0.5,vjust = -0.5, size =4)+   \n",
    "        scale_x_discrete(labels = function(x) str_wrap(x, width = 10))+theme2+ \n",
    "            xlab(\"\") + ylab(\"Percent\")+\n",
    "              ggtitle(\"Education\")"
   ]
  },
  {
   "cell_type": "markdown",
   "metadata": {
    "_uuid": "5d19767ba401d551180cf54851a043e1bf408072"
   },
   "source": [
    "**Country-Education-Gender Comparison**:\n",
    "\n",
    "The dominance of **Master's Degree** holder can be seen for all countries in both the male and female categories. Some countries where there are **more Bachelor's degree holders** compared to Master's degree holders are,** India(can be seen in Male category), Vietnam, South Korea, Australia, Indonesia, Egypt, Kenya, Bangladesh, Nigeria**. The dominance of **Master's degree** holders is still there in most of the **Europe and America**. "
   ]
  },
  {
   "cell_type": "code",
   "execution_count": null,
   "metadata": {
    "_kg_hide-input": true,
    "_uuid": "7eece8a45a9e0a8781abba61d6e4f8fbb6babb2f"
   },
   "outputs": [],
   "source": [
    "options(repr.plot.width=12, repr.plot.height=12)\n",
    "\n",
    "multichoice[] %>% \n",
    "group_by(Q1,Q3,Q4)%>%\n",
    "filter(Q1 == \"Female\"| Q1== \"Male\")%>%\n",
    "filter(!is.na(Q4))%>%\n",
    "summarise(Count = length(Q3))%>%\n",
    "mutate(pct = prop.table(Count)*100)%>%\n",
    "ggplot(aes(x = Q4, y = Q3, fill = pct)) + \n",
    "   geom_tile() + scale_fill_viridis(direction= -1)+\n",
    "    facet_wrap(Q1~.)+\n",
    "     #scale_x_discrete(labels = function(x) str_wrap(x, width = 10))+\n",
    "      scale_y_discrete(labels = function(y) str_wrap(y, width = 20))+             \n",
    "      theme2.1+  xlab(\"\") + ylab(\" \")+\n",
    "       ggtitle(\"Country-Education-Gender Comparison\")"
   ]
  },
  {
   "cell_type": "markdown",
   "metadata": {
    "_uuid": "550456ea2080c5788f03fd2e794c9add0d5eea47"
   },
   "source": [
    "**5- What is her Undergraduate Major? \"Software we are Aware!!!!\"**\n",
    "\n",
    "While most of the respondents have **Software Major**, but we do have lots of categories here(although less in percent), right from** 'Non-computer major'** to **'Never declared a major'**.\n",
    "\n",
    "Now coming to the difference between female and males, it can be clearly seen that, more females are likely to be a member of kaggle from **Mathematics and Statistics** background than their male counterparts(the difference is around 5%). Similarly, **females** from **business, social science and medical backgrounds** are more in percent, as compared to their male counterparts. \n",
    "\n",
    "However, females from **non-computer focussed engineering** background are around **6% less** when compared to their male counterparts.\n",
    "\n",
    "\n",
    "If you are inetersted, I belong to the third category from left. "
   ]
  },
  {
   "cell_type": "code",
   "execution_count": null,
   "metadata": {
    "_kg_hide-input": true,
    "_uuid": "878b6e55c2efe08865ee709bb196683b2fc041f6"
   },
   "outputs": [],
   "source": [
    "theme3 <- theme_bw()+theme(text = element_text(size=13),\n",
    "                           axis.text.y = element_text(angle = 0, hjust = 1))+\n",
    "theme(legend.position = 'none', plot.title = element_text(hjust = 0.5))\n",
    "\n",
    "multichoice %>% \n",
    "group_by(Q1,Q5)%>%\n",
    "filter(Q1 == \"Female\"|Q1 == \"Male\")%>%\n",
    "filter(!is.na(Q5))%>%\n",
    "summarise(Count = length(Q5))%>%\n",
    "mutate(pct = prop.table(Count)*100)%>%\n",
    "ggplot(aes(x = reorder(Q5, -pct), y = pct, fill = pct)) + \n",
    " geom_bar(stat = 'identity') + scale_fill_viridis(direction = -1)+\n",
    "  facet_grid(Q1~.)+\n",
    "   geom_text(aes(label = sprintf(\"%.2f%%\", pct)), hjust = 0.5,vjust = -0.5, size =4)+\n",
    "    scale_x_discrete(labels = function(x) str_wrap(x, width = 5))+\n",
    "     theme3+xlab(\"\") + ylab(\"Percent\")+\n",
    "      ggtitle(\"Undergraduate Major\")"
   ]
  },
  {
   "cell_type": "markdown",
   "metadata": {
    "_uuid": "1d2715361db1b86bab8d838dc37c7ab0d2f9d101"
   },
   "source": [
    "**6- What is her Current Role? \"That nerd is a student\"**\n",
    "\n",
    "Most are students and I am happy to know that they have figured it out early. \n",
    "\n",
    "**More females** identify themselves as **student(26.2%) **and **data analyst(10.85%)**, when compared to their male counterpart. "
   ]
  },
  {
   "cell_type": "code",
   "execution_count": null,
   "metadata": {
    "_kg_hide-input": true,
    "_uuid": "fbba07863f092aa17a5be56ec78ff9af9fb6554a"
   },
   "outputs": [],
   "source": [
    "multichoice %>% \n",
    "group_by(Q1, Q6)%>%\n",
    "filter(Q1 == \"Female\"|Q1 == \"Male\")%>%\n",
    "filter(!is.na(Q6))%>%\n",
    "summarise(Count = length(Q6))%>%\n",
    "mutate(pct = prop.table(Count)*100)%>%\n",
    "ggplot(aes(x = reorder(Q6, pct), y = pct, fill = pct)) + \n",
    "geom_bar(stat = 'identity') + scale_fill_viridis(direction= -1)+\n",
    "facet_wrap(Q1~.)+coord_flip()+\n",
    "geom_text(aes(label = sprintf(\"%.2f%%\", pct)), hjust = -0.1,vjust = -0.5, size =3, angle = 0)+   \n",
    "    scale_x_discrete(labels = function(x) str_wrap(x, width = 10))+\n",
    "        theme3+ xlab(\"\") + ylab(\"Percent\")+\n",
    "            ggtitle(\"Current Role\")"
   ]
  },
  {
   "cell_type": "markdown",
   "metadata": {
    "_uuid": "0bfae754756d86d35446eec28dc4efd530c93b53"
   },
   "source": [
    "**7- Which industry she belongs to? \"Wait!!! She is yet to start. Go for it girl\"**\n",
    "\n",
    "While most of them are still students, the professionals from software/computer industry are not far behind. Obiviously. But don't miss the **other categories**, although they are less in percentages. Remember girls, you can apply this field in any industry. So keep learning. "
   ]
  },
  {
   "cell_type": "code",
   "execution_count": null,
   "metadata": {
    "_kg_hide-input": true,
    "_uuid": "ff4791cd73ff484f46423809a996fbb92fd37cef"
   },
   "outputs": [],
   "source": [
    "theme4 <- theme_bw()+theme(text = element_text(size=13),\n",
    "                           axis.text.x = element_text(angle = 30, hjust = 1))+\n",
    "theme(legend.position = 'none', plot.title = element_text(hjust = 0.5))\n",
    "\n",
    "multichoice %>% \n",
    "group_by(Q1,Q7)%>%\n",
    "filter(Q1 == \"Female\"|Q1 == \"Male\")%>%\n",
    "filter(!is.na(Q7))%>%\n",
    "summarise(Count = length(Q7))%>%\n",
    "mutate(pct = prop.table(Count)*100)%>%\n",
    "ggplot(aes(x = reorder(Q7, -pct), y = pct, fill = pct)) + \n",
    "geom_bar(stat = 'identity') + scale_fill_viridis(direction= -1)+\n",
    "facet_grid(Q1~.)+\n",
    "geom_text(aes(label = sprintf(\"%.2f%%\", pct)), hjust = 0.5,vjust = -0.5, size =4)+   \n",
    "scale_x_discrete(labels = function(x) str_wrap(x, width = 10))+\n",
    "theme4+xlab(\"\") + ylab(\"Percent\")+\n",
    "ggtitle(\"Current Industry\")"
   ]
  },
  {
   "cell_type": "markdown",
   "metadata": {
    "_uuid": "0289fb0f5bdb482c8af6d228b78e8be43fac07d1"
   },
   "source": [
    "**8- What is her experience in her current role? \"She is a newbie.. I told ya!!!\"**\n",
    "\n",
    "Pretty intuitive, since **most of them are students** and are here in kaggle for building their experience and knowledge offcourse. Keep going girls!!!\n",
    "\n",
    "While making a comparison, I found that 14.16% females and 11.74% males have not answered the question. Apart from that the female students are more as compared to their male counterparts. Respondents with 5-10 years of experience are more in case of both the categories."
   ]
  },
  {
   "cell_type": "code",
   "execution_count": null,
   "metadata": {
    "_kg_hide-input": true,
    "_uuid": "8ed6a001225f06fde432cf853a296551ad521fb6"
   },
   "outputs": [],
   "source": [
    "multichoice$Q8 <- factor(multichoice$Q8, level = c(\"0-1\",\"1-2\",\"2-3\",\n",
    "                                                   \"3-4\",\"4-5\",\"5-10\",\n",
    "                                                   \"10-15\",\"15-20\",\"20-25\",\n",
    "                                                   \"25-30\",\"30+\"))\n",
    "\n",
    "multichoice %>% \n",
    "group_by(Q1,Q8)%>%\n",
    "filter(Q1 == \"Female\"|Q1 == \"Male\")%>%\n",
    "filter(!is.na(Q8))%>%\n",
    "summarise(Count = length(Q8))%>%\n",
    "mutate(pct = prop.table(Count)*100)%>%\n",
    "ggplot(aes(x = Q8, y = pct, fill = Q8)) + \n",
    "geom_bar(stat = 'identity') + scale_fill_brewer(palette=\"Set3\",  na.value = \"gray\")+\n",
    "facet_grid(Q1~.)+\n",
    "geom_text(aes(label = sprintf(\"%.2f%%\", pct)), hjust = 0.5,vjust = -0.5, size =5)+   \n",
    "scale_x_discrete(labels = function(x) str_wrap(x, width = 10))+\n",
    "theme1+xlab(\"\") + ylab(\"Percent\")+\n",
    "ggtitle(\"Experience in Current Role\")"
   ]
  },
  {
   "cell_type": "markdown",
   "metadata": {
    "_uuid": "309891c6042f47b9801adea48aa50ea3fbf9e468"
   },
   "source": [
    "**9- What is her yearly compensation? \"She doesn't want you to know\"**\n",
    "\n",
    "**26%** ladies do not wish to disclose . The trend is more or less same for both male and females. The trend of refusing to disclose  the compensation is commonly echoed by other categories as well. "
   ]
  },
  {
   "cell_type": "code",
   "execution_count": null,
   "metadata": {
    "_kg_hide-input": true,
    "_uuid": "01b1473fe75f0a1a6a2e57e6aeea03e39f1f4c04"
   },
   "outputs": [],
   "source": [
    "options(repr.plot.width=12, repr.plot.height=8)\n",
    "\n",
    "theme2.2 <- theme_bw()+theme(text = element_text(size=15),\n",
    "                           axis.text.x = element_text(angle = 30, hjust = 1))+\n",
    "theme(plot.title = element_text(hjust = 0.5))\n",
    "\n",
    "\n",
    "multichoice$Q9 <- \n",
    "str_replace(multichoice$Q9, \n",
    "            \"I do not wish to disclose my approximate yearly compensation\",\n",
    "            \"Won't disclose\" )\n",
    "\n",
    "multichoice$Q9 <- factor(multichoice$Q9, \n",
    "                         level = c(\"Won't disclose\",\n",
    "                                   \"0-10,000\",\"10-20,000\",\"20-30,000\",\"30-40,000\",\n",
    "                                   \"40-50,000\",\"50-60,000\",\"60-70,000\",\"70-80,000\",\n",
    "                                   \"80-90,000\",\"90-100,000\",\"100-125,000\",\n",
    "                                   \"125-150,000\",\"150-200,000\",\"200-250,000\",\n",
    "                                   \"250-300,000\",\"300-400,000\", \"400-500,000\",\"500,000+\"))\n",
    "\n",
    "multichoice %>% \n",
    "group_by(Q1,Q9)%>%\n",
    "filter(Q1 == \"Female\"|Q1 == \"Male\")%>%\n",
    "filter(!is.na(Q9))%>%\n",
    "summarise(Count = length(Q9))%>%\n",
    "mutate(pct = prop.table(Count)*100)%>%\n",
    "ggplot(aes(x = Q9, y = pct, fill = Q1)) + \n",
    "geom_col( position = \"dodge\") + \n",
    "scale_fill_manual(values=c(\"#00AFBB\", \"#E7B800\"))+\n",
    "theme2.2+ xlab(\"Salary Ranges\") + ylab(\"Percent\")+\n",
    "ggtitle(\"Yearly Salary\")"
   ]
  },
  {
   "cell_type": "code",
   "execution_count": null,
   "metadata": {
    "_kg_hide-input": true,
    "_kg_hide-output": true,
    "_uuid": "ac5b8fb411c7821899680648f8922cbbb6164946"
   },
   "outputs": [],
   "source": [
    "options(repr.plot.width=12, repr.plot.height=12)\n",
    "\n",
    "theme2.3 <- theme_bw()+theme(text = element_text(size=10),\n",
    "                           axis.text.x = element_text(angle = 90, hjust = 1))+\n",
    "theme(legend.position = \"top\",plot.title = element_text(hjust = 0.5))\n",
    "\n",
    "\n",
    "multichoice[] %>% \n",
    "group_by(Q1,Q3,Q9)%>%\n",
    "filter(Q1 == \"Female\"| Q1== \"Male\")%>%\n",
    "filter(!is.na(Q3)) %>% filter(!is.na(Q9))%>%\n",
    "filter(Q9 != \"Won't disclose\") %>%\n",
    "filter(Q3 != \"Won't disclose\" & Q3 != \"Other\")%>%\n",
    "summarise(Count = length(Q1))%>%\n",
    "mutate(pct = prop.table(Count)*100)%>%\n",
    "ggplot(aes(x = Q9, y= pct, fill = Q1)) + \n",
    "   geom_col(position = \"dodge\") + #scale_fill_viridis(direction= -1)+\n",
    "    facet_wrap(Q3~.)+\n",
    "     #scale_x_discrete(labels = function(x) str_wrap(x, width = 10))+\n",
    "      scale_y_discrete(labels = function(y) str_wrap(y, width = 20))+             \n",
    "      theme2.3+  xlab(\"\") + ylab(\" \")+#coord_flip()+\n",
    "       ggtitle(\"Country-Education-Gender Comparison\")"
   ]
  },
  {
   "cell_type": "markdown",
   "metadata": {
    "_uuid": "04654b7181db487cc47b9d89709aabf1ec4b9709"
   },
   "source": [
    "**10- Does her employer uses ML? \"She is way ahead of the game\"**\n",
    "\n",
    "This is really interesting and relatable, around** 60%** of the ladies said that their** employers** do **not** use **ML** or **planning to do ML** or simply they do not know if ML is in use in their companies or not, but these **60%** are **active** in kaggle. This is an indication that ladies in data are **self starter** and a **self motivated** bunch and I am not surprised at all. "
   ]
  },
  {
   "cell_type": "code",
   "execution_count": null,
   "metadata": {
    "_kg_hide-input": true,
    "_uuid": "07e5904fdde571692c3a2752974e658ce2414b71"
   },
   "outputs": [],
   "source": [
    "options(repr.plot.width=12, repr.plot.height=10)\n",
    "\n",
    "multichoice %>% \n",
    "group_by(Q1,Q10)%>%\n",
    "filter(Q1 == \"Female\"|Q1 == \"Male\")%>%\n",
    "filter(!is.na(Q10))%>%\n",
    "summarise(Count = length(Q10))%>%\n",
    "mutate(pct = prop.table(Count)*100)%>%\n",
    "ggplot(aes(x = reorder(Q10, -pct), y = pct, fill = pct)) + \n",
    "geom_bar(stat = 'identity') + scale_fill_viridis(direction= -1)+\n",
    "facet_grid(Q1~.)+\n",
    "geom_text(aes(label = sprintf(\"%.2f%%\", pct)), hjust = 0.01,vjust = 0.05, size =5)+ \n",
    "scale_x_discrete(labels = function(x) str_wrap(x, width = 10))+\n",
    "theme1+ xlab(\"\") + ylab(\"Percent\")+\n",
    "ggtitle(\"Employer uses ML or not\")"
   ]
  },
  {
   "cell_type": "markdown",
   "metadata": {
    "_uuid": "5ea562c7ee246f005585e31abb6cf8cd19ffc9ee"
   },
   "source": [
    "**11(Part 1 to Part 7)- What is her day to day role?\"Analysis is her function & passion\"**\n",
    "\n",
    "Around **29.19%** of the ladies conduct analysis to** understand data** and influence **business decisions**, which is around** 4% higher** than their male counterparts. The rest of the results are more or less same. "
   ]
  },
  {
   "cell_type": "code",
   "execution_count": null,
   "metadata": {
    "_kg_hide-input": true,
    "_uuid": "15433a0e8fa9382268b4b5018f77c1e7c58f12f3"
   },
   "outputs": [],
   "source": [
    "#I gathered all the columns related to Q11 from part 1 to part 7 and aggregated the values.\n",
    "\n",
    "multichoice %>% \n",
    "select(Q1,Q11_Part_1,Q11_Part_2, Q11_Part_3,Q11_Part_4,Q11_Part_5,Q11_Part_6,Q11_Part_7)%>%\n",
    "filter(Q1 == \"Female\"|Q1==\"Male\")%>%\n",
    "gather(2:8, key = \"questions\", value = \"Function\")%>%\n",
    "group_by(Q1,Function)%>%\n",
    "filter(!is.na(Function))%>%\n",
    "summarise(Count = length(Function))%>%\n",
    "mutate(percent =  prop.table(Count)*100)%>%\n",
    "ggplot(aes(x = reorder(Function, -percent), y = percent, fill = Function)) + \n",
    "geom_bar(stat = 'identity') + scale_fill_brewer(palette=\"Set1\",  na.value = \"gray\")+\n",
    "facet_grid(Q1~.)+\n",
    "geom_text(aes(label = sprintf(\"%.2f%%\", percent)), hjust = 0.5,vjust = 0.01, size =5)+ \n",
    "scale_x_discrete(labels = function(x) str_wrap(x, width = 10))+\n",
    "theme1+ xlab(\"\") + ylab(\"Percent\")+\n",
    "ggtitle(\"Day to Day function?\")"
   ]
  },
  {
   "cell_type": "markdown",
   "metadata": {
    "_uuid": "61518e3946be539d97b514321cd34d3dc1074bcb"
   },
   "source": [
    "**12- Which tool she likes to use to analyze data? \"No points for guessing\"**\n",
    "\n",
    "**45%** of the **females** use local or hosted development environments such as **Rstudio and JupyterLab.** 22.64% females use basic statistical softwares such as Microsoft Excel and Google Sheets. I will compare these percentages with their male counterparts as well in the second plot under this section. \n",
    "\n",
    "The overall trend is same for the male counterparts here, except the fact that **females** use **Business Intelligence** tools slightly **more**(6.78%) than their male counterparts(5.75%). The use of statistical softwares such as **SPSS, SAS** is more in case of **females** by **more** than **2%**. Also, the use of **cloud** based softwares is **2% less** in case **females** as compared to their male counterparts. "
   ]
  },
  {
   "cell_type": "code",
   "execution_count": null,
   "metadata": {
    "_kg_hide-input": true,
    "_uuid": "299b4c0cc79baefb8fa2e654effca2ed077cd969"
   },
   "outputs": [],
   "source": [
    "multichoice %>% \n",
    "group_by(Q1, Q12_MULTIPLE_CHOICE)%>%\n",
    "filter(Q1 == \"Female\"|Q1 == \"Male\")%>%\n",
    "filter(!is.na(Q12_MULTIPLE_CHOICE))%>%\n",
    "summarise(Count = length(Q12_MULTIPLE_CHOICE))%>%\n",
    "mutate(pct = prop.table(Count)*100)%>%\n",
    "ggplot(aes(x = reorder(Q12_MULTIPLE_CHOICE, -pct), y = pct, fill = Q12_MULTIPLE_CHOICE)) + \n",
    "   geom_bar(stat = 'identity') + scale_fill_brewer(palette=\"Set1\")+\n",
    "    facet_grid(Q1~.)+\n",
    "    geom_text(aes(label = sprintf(\"%.2f%%\", pct)), hjust = 0.01,vjust = 0.01, size =5)+ \n",
    "      scale_x_discrete(labels = function(x) str_wrap(x, width = 10))+\n",
    "         theme1+ xlab(\"\") + ylab(\"Percent\")+\n",
    "              ggtitle(\"Choice of Tools for Analysis\")"
   ]
  },
  {
   "cell_type": "markdown",
   "metadata": {
    "_uuid": "7c8d1439b2ff413cd26a51c335f0c5dbbf5ec8f4"
   },
   "source": [
    "**13(Part-1 to Part-15)- IDE's used at school or college?\"They are from Venus, but they like Jupyter a lot\"**\n",
    "\n",
    "We found that **most** of them have used **Jupyter/IPython** in their school or college **followed by Rstudio**."
   ]
  },
  {
   "cell_type": "code",
   "execution_count": null,
   "metadata": {
    "_kg_hide-input": true,
    "_uuid": "dbde1f2fa2ca6609689849c0498e2eef0fd4f6e6",
    "scrolled": true
   },
   "outputs": [],
   "source": [
    "multichoice %>% \n",
    "select(Q1,30:45)%>%\n",
    "filter(Q1 == \"Female\"|Q1 == \"Male\")%>%\n",
    "gather(2:16, key = \"questions\", value = \"Function\")%>%\n",
    "group_by(Q1,Function)%>%\n",
    "filter(!is.na(Function))%>%\n",
    "summarise(Count = length(Function))%>%\n",
    "mutate(percent =  prop.table(Count)*100)%>%\n",
    "ggplot(aes(x = reorder(Function, -percent), y = percent, fill = percent)) + \n",
    "   geom_bar(stat = 'identity') + scale_fill_viridis(direction = -1)+\n",
    "    facet_grid(Q1~.)+\n",
    "    geom_text(aes(label = sprintf(\"%.2f%%\", percent)), hjust = 0.5,vjust = 0.01, size =5)+ \n",
    "      scale_x_discrete(labels = function(x) str_wrap(x, width = 5))+\n",
    "         theme2+ xlab(\"\") + ylab(\"Percent\")+\n",
    "              ggtitle(\"IDE's used at school or work\")"
   ]
  },
  {
   "cell_type": "markdown",
   "metadata": {
    "_uuid": "cdfc78e8ba8f9be4ddfb40719ba63ac9350c2dd0"
   },
   "source": [
    "**14(Part 1- Part 11)- Hosted Notebooks used in the last 5 years?** \n",
    "\n",
    "Around 37% of the females have not used a hosted notebook in the last 5 years. **Kaggle kernels** are the most preferred hosted notebooks. "
   ]
  },
  {
   "cell_type": "code",
   "execution_count": null,
   "metadata": {
    "_kg_hide-input": true,
    "_uuid": "4747cc9ad92b38a9f761c7658f209c83fe267e4f"
   },
   "outputs": [],
   "source": [
    "multichoice %>% \n",
    "select(Q1,46:57)%>%\n",
    "filter(Q1 == \"Female\"|Q1 == \"Male\")%>%\n",
    "gather(2:11, key = \"questions\", value = \"Function\")%>%\n",
    "group_by(Q1,Function)%>%\n",
    "filter(!is.na(Function))%>%\n",
    "summarise(Count = length(Function))%>%\n",
    "mutate(percent =  prop.table(Count)*100)%>%\n",
    "ggplot(aes(x = reorder(Function, -percent), y = percent, fill = percent)) + \n",
    "   geom_bar(stat = 'identity') + scale_fill_viridis(direction = -1)+\n",
    "    facet_grid(Q1~.)+\n",
    "    geom_text(aes(label = sprintf(\"%.2f%%\", percent)), hjust = 0.5,vjust = 0.01, size =5)+ \n",
    "      scale_x_discrete(labels = function(x) str_wrap(x, width = 5))+\n",
    "         theme2+ xlab(\"\") + ylab(\"Percent\")+\n",
    "              ggtitle(\"Hosted Notebooks used at school or work\")"
   ]
  },
  {
   "cell_type": "markdown",
   "metadata": {
    "_uuid": "486b4b98a113fc68c6fcfccd78aa5934df3ab225"
   },
   "source": [
    "**15(Part 1- Part7) Cloud services used in the last 5 years:\"No they are not on cloud9\"**\n",
    "\n",
    "**41.77%** of **female **kagglers have not used any cloud based services, which is around **10%** **more** than that of their **male** counterparts. AWS comes next in rank. "
   ]
  },
  {
   "cell_type": "code",
   "execution_count": null,
   "metadata": {
    "_kg_hide-input": true,
    "_uuid": "692b34e15e0ce1eecbf4f5d6ee8a1b990e0eb72c"
   },
   "outputs": [],
   "source": [
    "multichoice %>% \n",
    "select(Q1,59:65)%>%\n",
    "filter(Q1 == \"Female\"|Q1 == \"Male\")%>%\n",
    "gather(2:7, key = \"questions\", value = \"Function\")%>%\n",
    "group_by(Q1,Function)%>%\n",
    "filter(!is.na(Function))%>%\n",
    "summarise(Count = length(Function))%>%\n",
    "mutate(percent =  prop.table(Count)*100)%>%\n",
    "ggplot(aes(x = reorder(Function, -percent), y = percent, fill = percent)) + \n",
    "   geom_bar(stat = 'identity') + scale_fill_viridis(direction = -1)+\n",
    "    facet_grid(Q1~.)+\n",
    "    geom_text(aes(label = sprintf(\"%.2f%%\", percent)), hjust = 0.5,vjust = 0.01, size =5)+ \n",
    "      scale_x_discrete(labels = function(x) str_wrap(x, width = 10))+\n",
    "         theme2+ xlab(\"\") + ylab(\"Percent\")+\n",
    "              ggtitle(\"Cloud services used in the last 5 years\")"
   ]
  },
  {
   "cell_type": "markdown",
   "metadata": {
    "_uuid": "d93e9c03c89e01dbecde0f2e21e66b22b2f80d60"
   },
   "source": [
    "**16(Part 1- 18)Programming languages use on a regular basis: \"They are regulaR with R\"**\n",
    "\n",
    "Although Python tops the list of preferred Programming Languages used on a daily basis. The difference lies in case of **SQL, R and MATLAB,** where **Female Kagglers exceed **in percent (between 2-4.5%) w.r.t their Male counterparts. \n",
    "\n",
    "I feel confident now..."
   ]
  },
  {
   "cell_type": "code",
   "execution_count": null,
   "metadata": {
    "_kg_hide-input": true,
    "_uuid": "7342972440c0b2dbaf07a58809196cc52f2dd6a1"
   },
   "outputs": [],
   "source": [
    "options(repr.plot.width=10, repr.plot.height=6)\n",
    "\n",
    "\n",
    "theme5 <- theme_bw()+theme(text = element_text(size=15),\n",
    "                           axis.text.x = element_text(angle = 60, hjust = 1))+\n",
    "theme(legend.position = 'top', plot.title = element_text(hjust = 0.5))\n",
    "\n",
    "multichoice %>% \n",
    "select(Q1,66:84)%>%\n",
    "filter(Q1 == \"Female\"|Q1 == \"Male\")%>%\n",
    "gather(2:18, key = \"questions\", value = \"Programming_Language\")%>%\n",
    "group_by(Q1,Programming_Language)%>%\n",
    "filter(!is.na(Programming_Language))%>%\n",
    "filter(!is.na(Q1))%>%\n",
    "summarise(Count = length(Programming_Language))%>%\n",
    "mutate(percent =  prop.table(Count)*100)%>%\n",
    "ggplot(aes(x = reorder(Programming_Language,-percent), y = percent, fill = Q1)) + \n",
    "geom_col( position = \"dodge\") + \n",
    "scale_fill_manual(values=c(\"#00AFBB\", \"#E7B800\"))+\n",
    "   # geom_text(aes(label = sprintf(\"%.2f%%\", percent)), hjust = 0.5,vjust = 0.1, size =3)+ \n",
    "      scale_x_discrete(labels = function(x) str_wrap(x, width = 5))+\n",
    "         theme5+ xlab(\"\") + ylab(\"Percent\")+\n",
    "              ggtitle(\"Programming_Language used on a Regular Basis\")"
   ]
  },
  {
   "cell_type": "markdown",
   "metadata": {
    "_uuid": "75ef90a5b45ee55214297dcf46decfb95bcd13bb"
   },
   "source": [
    "**17-Specific Programming language used most often:**\n",
    "\n",
    "The programming laguage used most often is Python in both the genders, but again, the more female kagglers prefer using R when compared to Male Kagglers. "
   ]
  },
  {
   "cell_type": "code",
   "execution_count": null,
   "metadata": {
    "_kg_hide-input": true,
    "_uuid": "7c84bc47d1358c4704b7a6e99acc97a3d3dcb226"
   },
   "outputs": [],
   "source": [
    "multichoice %>% \n",
    "select(Q1,Q17)%>%\n",
    "filter(Q1 == \"Female\"|Q1 == \"Male\")%>%\n",
    "#gather(2:18, key = \"questions\", value = \"Programming_Language\")%>%\n",
    "group_by(Q1,Q17)%>%\n",
    "filter(!is.na(Q17))%>%\n",
    "#filter(!is.na(Q1))%>%\n",
    "summarise(Count = length(Q17))%>%\n",
    "mutate(percent =  prop.table(Count)*100)%>%\n",
    "ggplot(aes(x = reorder(Q17,-percent), y = percent, fill = Q1)) + \n",
    "geom_col( position = \"dodge\") + \n",
    "scale_fill_manual(values=c(\"#00AFBB\", \"#E7B800\"))+\n",
    "    #geom_text(aes(label = sprintf(\"%.2f%%\", percent)), hjust = 0.5,vjust = 0.1, size =3)+ \n",
    "      scale_x_discrete(labels = function(x) str_wrap(x, width = 5))+\n",
    "         theme5+ xlab(\"\") + ylab(\"Percent\")+\n",
    "              ggtitle(\"Specific Programming language used most often\")"
   ]
  },
  {
   "cell_type": "markdown",
   "metadata": {
    "_uuid": "bbe0726c4bec1ba62b3d59b8832ef61abbe3b58e"
   },
   "source": [
    "**18- Recommended Programming Language:**\n",
    "\n",
    "Ladies are more likely to refer R and SQL when compared to their male counterparts. The trend however continues here in favour of Python as a recommended programming languages. "
   ]
  },
  {
   "cell_type": "code",
   "execution_count": null,
   "metadata": {
    "_kg_hide-input": true,
    "_uuid": "c74f03aa1af20612186bd617a2367dbb601a290e"
   },
   "outputs": [],
   "source": [
    "multichoice %>% \n",
    "select(Q1,Q18)%>%\n",
    "filter(Q1 == \"Female\"|Q1 == \"Male\")%>%\n",
    "#gather(2:18, key = \"questions\", value = \"Programming_Language\")%>%\n",
    "group_by(Q1,Q18)%>%\n",
    "filter(!is.na(Q18))%>%\n",
    "#filter(!is.na(Q1))%>%\n",
    "summarise(Count = length(Q18))%>%\n",
    "mutate(percent =  prop.table(Count)*100)%>%\n",
    "ggplot(aes(x = reorder(Q18,-percent), y = percent, fill = Q1)) + \n",
    "geom_col( position = \"dodge\") + \n",
    "scale_fill_manual(values=c(\"#00AFBB\", \"#E7B800\"))+\n",
    "    #geom_text(aes(label = sprintf(\"%.2f%%\", percent)), hjust = 0.5,vjust = 0.1, size =3)+ \n",
    "      scale_x_discrete(labels = function(x) str_wrap(x, width = 5))+\n",
    "         theme5+ xlab(\"\") + ylab(\"Percent\")+\n",
    "              ggtitle(\"Recommended Programming language\")"
   ]
  },
  {
   "cell_type": "markdown",
   "metadata": {
    "_uuid": "39d84e231c1d9fcdc5dc5047d0298b5e8936fcb3"
   },
   "source": [
    "**Profession-Programming Language-Gender Comparison:\"They mean it when they say, R is a statistician's language\"**\n",
    "\n",
    "The plot below compares the profession of respondents and their language preference. It can be seen that **Statisticians** are more likely to recommend you **R over Python**, to learn as a Data Scientist. I have alsways read that, R is a statistician's language and this data doesn't deny as well. \n",
    "\n",
    "Followed by Statisticians, **Marketing Analysts** are also more likely to **recommend R. **"
   ]
  },
  {
   "cell_type": "code",
   "execution_count": null,
   "metadata": {
    "_kg_hide-input": true,
    "_uuid": "569675b9d482fd8beeed6bc786c2b53cb1d39365"
   },
   "outputs": [],
   "source": [
    "multichoice %>% \n",
    "filter(Q1 == \"Female\"|Q1 == \"Male\")%>%\n",
    "filter(Q18 == \"Python\"|Q18 == \"R\")%>%\n",
    "group_by(Q1,Q6,Q18)%>%\n",
    "filter(!is.na(Q18))%>%\n",
    "summarise(Count = length(Q18))%>%\n",
    "mutate(percent =  prop.table(Count)*100)%>%\n",
    "ggplot(aes(x =Q18 , y = Q6, fill = percent)) + \n",
    "   geom_tile() + scale_fill_viridis(direction= -1)+\n",
    "    facet_wrap(Q1~.)+\n",
    "     theme2.1+  xlab(\"\") + ylab(\" \")+\n",
    "       ggtitle(\"Profession-Programming Language-Gender Comparison\")"
   ]
  },
  {
   "cell_type": "code",
   "execution_count": null,
   "metadata": {
    "_kg_hide-input": true,
    "_uuid": "bb5ff92ddfa98b71983c3a4a22768094c47a1aca"
   },
   "outputs": [],
   "source": [
    "multichoice %>% \n",
    "filter(Q1 == \"Female\"|Q1 == \"Male\")%>%\n",
    "filter(Q18 == \"Python\"|Q18 == \"R\")%>%\n",
    "group_by(Q1,Q5,Q18)%>%\n",
    "filter(!is.na(Q18))%>%\n",
    "filter(!is.na(Q5))%>%\n",
    "summarise(Count = length(Q18))%>%\n",
    "mutate(percent =  prop.table(Count)*100)%>%\n",
    "ggplot(aes(x =Q18 , y = Q5, fill = percent)) + \n",
    "   geom_tile() + scale_fill_viridis(direction= -1)+\n",
    "    facet_wrap(Q1~.)+\n",
    "    scale_y_discrete(labels = function(y) str_wrap(y, width = 40))+\n",
    "     theme2.1+  xlab(\"\") + ylab(\" \")+\n",
    "       ggtitle(\"Industry-Programming Language-Gender Comparison\")"
   ]
  },
  {
   "cell_type": "markdown",
   "metadata": {
    "_uuid": "26505f5b61b18118d34c7b2881362526b7e2e7cd"
   },
   "source": [
    "**19(Part 1- Part 19) & 20: ML Framework used in last 5 years and most often:**\n",
    "\n",
    "**Scikit-Learn** remains the most popular in both the categories, followed by tensorflow. **Ladies** have a knack for **randomForest and Caret** as well. We can see that more percent of ladies are using Scikit-Learn, randomForest and Caret from the last 5 years and most often when compared to Male Kagglers. \n",
    "\n",
    "Apart from analyzing the difference between Male and Female Kagglers in this category, I also found out that, there are so many interesting ML Frameworks such as **H20, Prophet and Fastai** etc., that can be explored by Kagglers. "
   ]
  },
  {
   "cell_type": "code",
   "execution_count": null,
   "metadata": {
    "_kg_hide-input": true,
    "_uuid": "f3700ea80bba580b915f79d3efd1e9628bc5de01"
   },
   "outputs": [],
   "source": [
    "multichoice %>% \n",
    "select(Q1,Q19_Part_1:Q19_Part_19)%>%\n",
    "filter(Q1 == \"Female\"|Q1 == \"Male\")%>%\n",
    "gather(2:19, key = \"questions\", value = \"ML\")%>%\n",
    "group_by(Q1,ML)%>%\n",
    "filter(!is.na(ML))%>%\n",
    "filter(!is.na(Q1))%>%\n",
    "summarise(Count = length(ML))%>%\n",
    "mutate(percent =  prop.table(Count)*100)%>%\n",
    "ggplot(aes(x = reorder(ML,-percent), y = percent, fill = Q1)) + \n",
    "geom_col( position = \"dodge\") + \n",
    "scale_fill_manual(values=c(\"#00AFBB\", \"#E7B800\"))+\n",
    "    #geom_text(aes(label = sprintf(\"%.2f%%\", percent)), hjust = 0.5,vjust = 0.1, size =3)+ \n",
    "      scale_x_discrete(labels = function(x) str_wrap(x, width = 5))+\n",
    "         theme5+ xlab(\"\") + ylab(\"Percent\")+\n",
    "              ggtitle(\"ML framework used in last 5 years\")"
   ]
  },
  {
   "cell_type": "code",
   "execution_count": null,
   "metadata": {
    "_kg_hide-input": true,
    "_uuid": "58b68576d44fd3e3a3b7e799c0dc15d4303c2c3a"
   },
   "outputs": [],
   "source": [
    "multichoice %>% \n",
    "select(Q1,Q20)%>%\n",
    "filter(Q1 == \"Female\"|Q1 == \"Male\")%>%\n",
    "group_by(Q1,Q20)%>%\n",
    "filter(!is.na(Q20))%>%\n",
    "#filter(!is.na(Q1))%>%\n",
    "summarise(Count = length(Q20))%>%\n",
    "mutate(percent =  prop.table(Count)*100)%>%\n",
    "ggplot(aes(x = reorder(Q20,-percent), y = percent, fill = Q1)) + \n",
    "geom_col( position = \"dodge\") + \n",
    "scale_fill_manual(values=c(\"#00AFBB\", \"#E7B800\"))+\n",
    "    #geom_text(aes(label = sprintf(\"%.2f%%\", percent)), hjust = 0.5,vjust = 0.1, size =3)+ \n",
    "      scale_x_discrete(labels = function(x) str_wrap(x, width = 5))+\n",
    "         theme5+ xlab(\"\") + ylab(\"Percent\")+\n",
    "              ggtitle(\"ML framework used most often\")"
   ]
  },
  {
   "cell_type": "markdown",
   "metadata": {
    "_uuid": "be499e66ca528af38a8d4beeefc2db28dae5d67f"
   },
   "source": [
    "**21- (Part 1- Part 13) Data Visualization libraries or tools used in the past 5 years:\"Her Plots are Pretty as well\"**\n",
    "\n",
    "**22-Data Visualization libraries or tools used most often:**\n",
    "\n",
    "Awesome!!! **Matplotlib**, is used by both the categories but **Male Kagglers**, tend to use it more. On the other hand **Female** Kagglers, use** ggplot** more often. In fact, when it comes to **R based visualization** tools such as ggplot, shiny, lattice, plotly(present in both R and Python) etc., **females** are more likely to respond. Not to mention R is popular for making data look pretty when compared to python, although python is catching up fast. This kind of gels with our findings above, where we saw that **female kagglers** are more likely to **recommend and use R **as compared to the Male Kagglers. "
   ]
  },
  {
   "cell_type": "code",
   "execution_count": null,
   "metadata": {
    "_kg_hide-input": true,
    "_uuid": "7db250e287a67639acbf5ed8f6742764eaba1611"
   },
   "outputs": [],
   "source": [
    "multichoice %>% \n",
    "select(Q1,Q21_Part_1:Q21_Part_13)%>%\n",
    "filter(Q1 == \"Female\"|Q1 == \"Male\")%>%\n",
    "gather(2:13, key = \"questions\", value = \"viz\")%>%\n",
    "group_by(Q1,viz)%>%\n",
    "filter(!is.na(viz))%>%\n",
    "filter(!is.na(Q1))%>%\n",
    "filter(viz != \"None\")%>%\n",
    "summarise(Count = length(viz))%>%\n",
    "mutate(percent =  prop.table(Count)*100)%>%\n",
    "ggplot(aes(x = reorder(viz,-percent), y = percent, fill = Q1)) + \n",
    "geom_col( position = \"dodge\") + \n",
    "scale_fill_manual(values=c(\"#00AFBB\", \"#E7B800\"))+\n",
    "    #geom_text(aes(label = sprintf(\"%.2f%%\", percent)), hjust = 0.5,vjust = 0.1, size =3)+ \n",
    "      scale_x_discrete(labels = function(x) str_wrap(x, width = 5))+\n",
    "         theme5+ xlab(\"\") + ylab(\"Percent\")+\n",
    "              ggtitle(\"Visualization Libraries used in last 5 years\")"
   ]
  },
  {
   "cell_type": "code",
   "execution_count": null,
   "metadata": {
    "_kg_hide-input": true,
    "_uuid": "6b620c1221644511027b9d34f354fdac09eb320f"
   },
   "outputs": [],
   "source": [
    "multichoice %>% \n",
    "select(Q1,Q22)%>%\n",
    "filter(Q1 == \"Female\"|Q1 == \"Male\")%>%\n",
    "group_by(Q1,Q22)%>%\n",
    "filter(!is.na(Q22))%>%\n",
    "summarise(Count = length(Q22))%>%\n",
    "mutate(percent =  prop.table(Count)*100)%>%\n",
    "ggplot(aes(x = reorder(Q22,-percent), y = percent, fill = Q1)) + \n",
    "geom_col( position = \"dodge\") + \n",
    "scale_fill_manual(values=c(\"#00AFBB\", \"#E7B800\"))+\n",
    "     scale_x_discrete(labels = function(x) str_wrap(x, width = 5))+\n",
    "         theme5+ xlab(\"\") + ylab(\"Percent\")+\n",
    "              ggtitle(\"Visualization Libraries used most often\")"
   ]
  },
  {
   "cell_type": "markdown",
   "metadata": {
    "_uuid": "7516bf695522467e6c85799cf5068de28c9c995e"
   },
   "source": [
    "**23-Percent of your time at work or school is spent actively coding**\n",
    "\n",
    "When it comes to time spent on coding, Men and Women Kagglers are more or less alike. Most of them spent around **50-75% **of their **time coding **in their school or work. But, we must see those kagglers who do not get a chance to code in their school or work, but they are still motivated to joing kaggle and participate actively(atleast on a survey) and amongst them females are more. "
   ]
  },
  {
   "cell_type": "code",
   "execution_count": null,
   "metadata": {
    "_kg_hide-input": true,
    "_uuid": "899623e74ada4cad9953820bb1e1e70494b2e556"
   },
   "outputs": [],
   "source": [
    "multichoice$Q23 <- factor(multichoice$Q23, level = c(\"0% of my time\",\n",
    "                                                     \"1% to 25% of my time\",\n",
    "                                                     \"25% to 49% of my time\",\n",
    "                                                     \"50% to 74% of my time\",\n",
    "                                                     \"75% to 99% of my time\",\n",
    "                                                     \"100% of my time\"))\n",
    "\n",
    "\n",
    "multichoice %>%\n",
    "filter(Q1 == \"Female\"|Q1 == \"Male\")%>%\n",
    "group_by(Q1,Q23)%>%\n",
    "filter(!is.na(Q23))%>%\n",
    "summarise(Count = length(Q23))%>%\n",
    "mutate(Percent = prop.table(Count)*100)%>%\n",
    "ggplot(aes(Q23, Percent, fill = Q1))+\n",
    "geom_col(position =\"dodge\")+ \n",
    "scale_fill_manual(values=c(\"#00AFBB\", \"#E7B800\"))+\n",
    "scale_x_discrete(labels = function(x) str_wrap(x, width = 10))+\n",
    "theme5+ xlab(\"\") + ylab(\"Percent\")+\n",
    "ggtitle(\"Time spent actively coding at work or school\")"
   ]
  },
  {
   "cell_type": "markdown",
   "metadata": {
    "_uuid": "d4ddcc35d7429109790189dbc183c02d23e59ca6"
   },
   "source": [
    "**24- Experience in coding to analyze data: \"They want to learn, Encourage them\"**\n",
    "\n",
    "Most of the **Wogglers** have **less than 1 year** of experience and around 6% of Wogglers have not written a code, but they want to learn. That's awesome. The **percent **of Wogglers **decreases** when the **years **in** coding **experience **increases. **"
   ]
  },
  {
   "cell_type": "code",
   "execution_count": null,
   "metadata": {
    "_kg_hide-input": true,
    "_uuid": "e28437163c7cbdec00afd9f7ed5a142b5d083423"
   },
   "outputs": [],
   "source": [
    "theme6 <- theme_bw()+theme(text = element_text(size=15),\n",
    "                           axis.text.x = element_text(angle = 0, hjust = 1))+\n",
    "theme(legend.position = 'top', plot.title = element_text(hjust = 0.5))\n",
    "\n",
    "\n",
    "multichoice$Q24 <- factor(multichoice$Q24, \n",
    "                          level = c(\"I have never written code and I do not want to learn\",\n",
    "                                    \"I have never written code but I want to learn\",\n",
    "                                    \"< 1 year\",\"1-2 years\",\"3-5 years\",\"5-10 years\",\n",
    "                                    \"10-20 years\",\"20-30 years\",\"30-40 years\", \"40+ years\"))\n",
    "\n",
    "\n",
    "\n",
    "\n",
    "multichoice %>%\n",
    "filter(Q1 == \"Female\"|Q1 == \"Male\")%>%\n",
    "group_by(Q1,Q24)%>%\n",
    "filter(!is.na(Q24))%>%\n",
    "summarise(Count = length(Q24))%>%\n",
    "mutate(Percent = prop.table(Count)*100)%>%\n",
    "ggplot(aes(Q24, Percent, fill = Q1))+\n",
    "geom_col(position =\"fill\")+ \n",
    "scale_fill_manual(values=c(\"#00AFBB\", \"#E7B800\"))+\n",
    "scale_x_discrete(labels = function(x) str_wrap(x, width = 8))+\n",
    "theme6+ xlab(\"\") + ylab(\"Percent\")+\n",
    "ggtitle(\"Experience in coding to analyze data\")"
   ]
  },
  {
   "cell_type": "markdown",
   "metadata": {
    "_uuid": "319b6c75234598dc70616a74988587fc4967d81b"
   },
   "source": [
    "**Experience in coding for analysis-Current Role-Gender Comparison**\n",
    "\n",
    "When comparing current role with respect to experience in coding for analysis, I found that mostly, kagglers who are sales professionals, Managers, Business Analysts have never done coding for analysis but they are willing to learn. I also, found that few Data Scientists(in both categories) and Data Analysts(Only in Male Category), have never done coding and are not willing to learn as well. "
   ]
  },
  {
   "cell_type": "code",
   "execution_count": null,
   "metadata": {
    "_kg_hide-input": true,
    "_uuid": "b72232085cd85e316322ca762fe70964f758d427"
   },
   "outputs": [],
   "source": [
    "options(repr.plot.width=12, repr.plot.height=8)\n",
    "\n",
    "theme7 <- theme_bw()+theme(text = element_text(size=15),\n",
    "                           axis.text.x = element_text(angle = 60, hjust = 1))+\n",
    "theme(legend.position = 'none', plot.title = element_text(hjust = 0.5))\n",
    "\n",
    "\n",
    "\n",
    "\n",
    "multichoice %>%\n",
    "filter(Q1 == \"Female\"|Q1 == \"Male\")%>%\n",
    "group_by(Q1,Q6, Q24)%>%\n",
    "filter(!is.na(Q24))%>%\n",
    "filter(!is.na(Q6))%>%\n",
    "summarise(Count = length(Q24))%>%\n",
    "mutate(Percent = prop.table(Count)*100)%>%\n",
    "ggplot(aes(x =Q24 , y = Q6, fill = Percent)) + \n",
    "   geom_tile() + scale_fill_viridis(direction= -1)+\n",
    "    facet_wrap(Q1~.)+\n",
    "    scale_x_discrete(labels = function(x) str_wrap(x, width = 30))+    \n",
    "     theme7+  xlab(\"\") + ylab(\" \")+\n",
    "       ggtitle(\"Experience in coding for analysis-Current Role-Gender Comparison\")"
   ]
  },
  {
   "cell_type": "markdown",
   "metadata": {
    "_uuid": "57f5a2eca4755136fa21fc98ba7b901d861b940e"
   },
   "source": [
    "**25-Machine Learning method used in school or work:They have just started**\n",
    "\n",
    "Most of the Kagglers, be it Females or Males, have started using Machine Learning. Their experience varies from **<1 year to 1-2 years**. The **gap** between **1-2 years and 2-3 years** is around **15%**(in case of Female Kagglers), and this gap is **increasing,** when we move towards increasing experience. "
   ]
  },
  {
   "cell_type": "code",
   "execution_count": null,
   "metadata": {
    "_kg_hide-input": true,
    "_uuid": "2b303c44b10d4eded6577dbc1d98eebc2a1392c2"
   },
   "outputs": [],
   "source": [
    "multichoice$Q25 <- factor(multichoice$Q25, \n",
    "            level = c(\"I have never studied machine learning and I do not plan to\",\n",
    "                      \"I have never studied machine learning but plan to learn in the future\",\n",
    "                      \"< 1 year\",\"1-2 years\",\"2-3 years\",\"3-4 years\",\n",
    "                      \"4-5 years\",\"5-10 years\",\"10-15 years\"))\n",
    "\n",
    "\n",
    "multichoice %>%\n",
    "filter(Q1 == \"Female\"|Q1 == \"Male\")%>%\n",
    "group_by(Q1,Q25)%>%\n",
    "filter(!is.na(Q25))%>%\n",
    "summarise(Count = length(Q25))%>%\n",
    "mutate(Percent = prop.table(Count)*100)%>%\n",
    "ggplot(aes(Q25, Percent, fill = Q1))+\n",
    "geom_col(position =\"dodge\")+ \n",
    "scale_fill_manual(values=c(\"#00AFBB\", \"#E7B800\"))+\n",
    "scale_x_discrete(labels = function(x) str_wrap(x, width = 8))+\n",
    "theme6+ xlab(\"\") + ylab(\"Percent\")+\n",
    "ggtitle(\"ML Method used in School or Work\")"
   ]
  },
  {
   "cell_type": "markdown",
   "metadata": {
    "_uuid": "52e34ad89c4c94078cc1464c14c9fe308fb0d519"
   },
   "source": [
    "**26- Consider themselves a Data Scientist:\"Yes most of them do\"**\n",
    "\n",
    "Most of the Kagglers, do consider them Data Scientists, and Wogglers are also much confident about this particular aspect. "
   ]
  },
  {
   "cell_type": "code",
   "execution_count": null,
   "metadata": {
    "_kg_hide-input": true,
    "_uuid": "c911258dda62478a0d301d6191c9bb95d66deef8"
   },
   "outputs": [],
   "source": [
    "multichoice$Q26 <- factor(multichoice$Q26,level = c(\"Definitely not\", \"Probably not\",\n",
    "                                                   \"Maybe\",\"Probably yes\",\"Definitely yes\"))\n",
    "\n",
    "\n",
    "\n",
    "multichoice %>%\n",
    "filter(Q1 == \"Female\"|Q1 == \"Male\")%>%\n",
    "group_by(Q1,Q26)%>%\n",
    "filter(!is.na(Q26))%>%\n",
    "summarise(Count = length(Q26))%>%\n",
    "mutate(Percent = prop.table(Count)*100)%>%\n",
    "ggplot(aes(Q26, Percent, fill = Q1))+\n",
    "geom_col(position =\"dodge\")+ \n",
    "scale_fill_manual(values=c(\"#00AFBB\", \"#E7B800\"))+\n",
    "scale_x_discrete(labels = function(x) str_wrap(x, width = 8))+\n",
    "theme6+ xlab(\"\") + ylab(\"Percent\")+\n",
    "ggtitle(\"Consider themselves a Data Scientist?\")"
   ]
  },
  {
   "cell_type": "markdown",
   "metadata": {
    "_uuid": "619635ba27ce423d2bc238d5306e168b748bd45c"
   },
   "source": [
    "**Current Industry-Consider Data Scientist-Gender Comparison**\n",
    "\n"
   ]
  },
  {
   "cell_type": "code",
   "execution_count": null,
   "metadata": {
    "_kg_hide-input": true,
    "_uuid": "17877c49880d963fae57e9fa92925a08194b0d83"
   },
   "outputs": [],
   "source": [
    "multichoice %>%\n",
    "filter(Q1 == \"Female\"|Q1 == \"Male\")%>%\n",
    "group_by(Q1,Q7, Q26)%>%\n",
    "filter(!is.na(Q26))%>%\n",
    "filter(!is.na(Q7))%>%\n",
    "summarise(Count = length(Q26))%>%\n",
    "mutate(Percent = prop.table(Count)*100)%>%\n",
    "ggplot(aes(x =Q26 , y = Q7, fill = Percent)) + \n",
    "   geom_tile() + scale_fill_viridis(direction= -1)+\n",
    "    facet_wrap(Q1~.)+\n",
    "    scale_x_discrete(labels = function(x) str_wrap(x, width = 30))+    \n",
    "     theme7+  xlab(\"\") + ylab(\" \")+\n",
    "       ggtitle(\"Current Industry-Consider Data Scientist-Gender Comparison\")"
   ]
  },
  {
   "cell_type": "markdown",
   "metadata": {
    "_uuid": "5cc720a0f876a2edb738897083ce158a970021ed"
   },
   "source": [
    "**Undergrad Major-Consider Data Scientist-Gender Comparison**\n",
    "\n",
    "More percent of Kagglers from Physics and Astronomy background, do consider themselves to be a Data Scientist, followed by Mathematics and Statistics background. "
   ]
  },
  {
   "cell_type": "code",
   "execution_count": null,
   "metadata": {
    "_kg_hide-input": true,
    "_uuid": "56daf6cb68c459b3183b4c698c46e951eb6d2427"
   },
   "outputs": [],
   "source": [
    "multichoice %>%\n",
    "filter(Q1 == \"Female\"|Q1 == \"Male\")%>%\n",
    "group_by(Q1,Q5, Q26)%>%\n",
    "filter(!is.na(Q26))%>%\n",
    "filter(!is.na(Q5))%>%\n",
    "summarise(Count = length(Q26))%>%\n",
    "mutate(Percent = prop.table(Count)*100)%>%\n",
    "ggplot(aes(x =Q26 , y = Q5, fill = Percent)) + \n",
    "   geom_tile() + scale_fill_viridis(direction= -1)+\n",
    "    facet_wrap(Q1~.)+\n",
    "    scale_y_discrete(labels = function(y) str_wrap(y, width = 30))+    \n",
    "     theme7+  xlab(\"\") + ylab(\" \")+\n",
    "       ggtitle(\"Undergrad Major-Consider Data Scientist-Gender Comparison\")"
   ]
  },
  {
   "cell_type": "markdown",
   "metadata": {
    "_uuid": "534ed204dc5a7c8a4a36e73fb35fa41aedaf1983"
   },
   "source": [
    "**Yearly Compensation-Consider Data Scientist-Gender Comparison:**\n",
    "\n",
    "Is there a little trend in this section? Well, can't say that as of now, but we do see that, when the salary ranges are high, the confidence to consider Data Scientist high too. "
   ]
  },
  {
   "cell_type": "code",
   "execution_count": null,
   "metadata": {
    "_kg_hide-input": true,
    "_uuid": "eddaad3ad8b671685205a2fc36313e91509e683d"
   },
   "outputs": [],
   "source": [
    "multichoice %>%\n",
    "filter(Q1 == \"Female\"|Q1 == \"Male\")%>%\n",
    "group_by(Q1,Q9, Q26)%>%\n",
    "filter(!is.na(Q26))%>%\n",
    "filter(!is.na(Q9))%>%\n",
    "summarise(Count = length(Q26))%>%\n",
    "mutate(Percent = prop.table(Count)*100)%>%\n",
    "ggplot(aes(x =Q26 , y = Q9, fill = Percent)) + \n",
    "   geom_tile() + scale_fill_viridis(direction= -1)+\n",
    "    facet_wrap(Q1~.)+\n",
    "    scale_y_discrete(labels = function(y) str_wrap(y, width = 30))+    \n",
    "     theme7+  xlab(\"\") + ylab(\" \")+\n",
    "       ggtitle(\"Yearly Compensation-Consider Data Scientist-Gender Comparison\")"
   ]
  },
  {
   "cell_type": "markdown",
   "metadata": {
    "_uuid": "7e63b5577fd21fce6c01091e9a319538b13ac6e2"
   },
   "source": [
    "**27(Part-1 to Part 20) Cloud Computing products used at work or school in the last 5 years:**\n",
    "\n",
    "The percent of ladies, having used Cloud Computing products in last 5 years is less in almost all products, but there are few exceptions, like in all of the IBM cloud products( 4 out of 4 products listed) and some Azure cloud products(3 out of 6 products listed) , the percent of ladies is slightly higher."
   ]
  },
  {
   "cell_type": "code",
   "execution_count": null,
   "metadata": {
    "_kg_hide-input": true,
    "_uuid": "1484b16565d276e00043af751ef14f6ea860c263"
   },
   "outputs": [],
   "source": [
    "multichoice %>% \n",
    "select(Q1,Q27_Part_1:Q27_Part_20)%>%\n",
    "filter(Q1 == \"Female\"|Q1 == \"Male\")%>%\n",
    "gather(2:21, key = \"questions\", value = \"cloud\")%>%\n",
    "group_by(Q1,cloud)%>%\n",
    "filter(!is.na(cloud))%>%\n",
    "#filter(!is.na(Q1))%>%\n",
    "summarise(Count = length(cloud))%>%\n",
    "mutate(percent =  prop.table(Count)*100)%>%\n",
    "ggplot(aes(x = reorder(cloud,-percent), y = percent, fill = Q1)) + \n",
    "geom_col( position = \"dodge\") + \n",
    "scale_fill_manual(values=c(\"#00AFBB\", \"#E7B800\"))+\n",
    "    #geom_text(aes(label = sprintf(\"%.2f%%\", percent)), hjust = 0.5,vjust = 0.1, size =3)+ \n",
    "      scale_x_discrete(labels = function(x) str_wrap(x, width = 20))+\n",
    "         theme5+ xlab(\"\") + ylab(\"Percent\")+\n",
    "              ggtitle(\"Cloud Computing products used at work or school in the last 5 years \")"
   ]
  },
  {
   "cell_type": "markdown",
   "metadata": {
    "_uuid": "0b7ab42aac179efc55d363f5cea46382be9baf04"
   },
   "source": [
    "**28(Part 1- Part43)- ML_Products products used at work or school in the last 5 years:\"They are called SASsy for some reason\"**\n",
    "\n",
    "Well, **more female** respondents have used **SAS** ML products most in the last **five years** when compared to their Male counterparts. Similar story belongs to using **Clodera** products as well. "
   ]
  },
  {
   "cell_type": "code",
   "execution_count": null,
   "metadata": {
    "_kg_hide-input": true,
    "_uuid": "9067284c02fbc44266c27382ff83b86bf0d845e1"
   },
   "outputs": [],
   "source": [
    "options(repr.plot.width=12, repr.plot.height=12)\n",
    "\n",
    "multichoice %>% \n",
    "select(Q1,Q28_Part_1:Q28_Part_43)%>%\n",
    "filter(Q1 == \"Female\"|Q1 == \"Male\")%>%\n",
    "gather(2:44, key = \"questions\", value = \"ML_Products\")%>%\n",
    "group_by(Q1,ML_Products)%>%\n",
    "filter(!is.na(ML_Products))%>%\n",
    "#filter(!is.na(Q1))%>%\n",
    "summarise(Count = length(ML_Products))%>%\n",
    "mutate(percent =  prop.table(Count)*100)%>%\n",
    "ggplot(aes(x = reorder(ML_Products,percent), y = percent, fill = Q1)) + \n",
    "geom_col(position = \"dodge\") + \n",
    "scale_fill_manual(values=c(\"#00AFBB\", \"#E7B800\"))+coord_flip()+\n",
    "   #geom_text(aes(label = sprintf(\"%.2f%%\", percent)), hjust = 0.5,vjust = 0.1, size =3)+ \n",
    "      scale_x_discrete(labels = function(x) str_wrap(x, width = 40))+\n",
    "         theme5+ xlab(\"\") + ylab(\"Percent\")+\n",
    "              ggtitle(\"ML_Products used at work or school in the last 5 years \")"
   ]
  },
  {
   "cell_type": "markdown",
   "metadata": {
    "_uuid": "704748c0df11b6e8e0295fd95f3821f8653852d6"
   },
   "source": [
    "**29(Part-1 to Part-28) Relational Database Products used at work or school in the last 5 years:**\n",
    "\n",
    "**MySQL** tops the list and the percent of ladies who have used MySQL in the last 5 years is slightly **higher** than their male counterparts. Similarly, the percent of ladies using **Oracle Database** and **Microsoft Access** is little higher than Male respondents. "
   ]
  },
  {
   "cell_type": "code",
   "execution_count": null,
   "metadata": {
    "_kg_hide-input": true,
    "_uuid": "6037960756e2704bf5874c84c34b8f472100f91a"
   },
   "outputs": [],
   "source": [
    "multichoice %>% \n",
    "select(Q1,Q29_Part_1:Q29_Part_28)%>%\n",
    "filter(Q1 == \"Female\"|Q1 == \"Male\")%>%\n",
    "gather(2:29, key = \"questions\", value = \"RDB_Products\")%>%\n",
    "group_by(Q1,RDB_Products)%>%\n",
    "filter(!is.na(RDB_Products))%>%\n",
    "#filter(!is.na(Q1))%>%\n",
    "summarise(Count = length(RDB_Products))%>%\n",
    "mutate(percent =  prop.table(Count)*100)%>%\n",
    "ggplot(aes(x = reorder(RDB_Products,percent), y = percent, fill = Q1)) + \n",
    "geom_col(position = \"dodge\") + \n",
    "scale_fill_manual(values=c(\"#00AFBB\", \"#E7B800\"))+coord_flip()+\n",
    "   #geom_text(aes(label = sprintf(\"%.2f%%\", percent)), hjust = 0.5,vjust = 0.1, size =3)+ \n",
    "      scale_x_discrete(labels = function(x) str_wrap(x, width = 40))+\n",
    "         theme5+ xlab(\"\") + ylab(\"Percent\")+\n",
    "              ggtitle(\"Relational Database Products used at work or school in the last 5 years \")"
   ]
  },
  {
   "cell_type": "markdown",
   "metadata": {
    "_uuid": "1dc98c03b600f555b669a1a3153739bacebc83f5"
   },
   "source": [
    "**30(Part-1 to Part-25)-Big data and Analytics products used at work or school in the last 5 years**\n",
    "\n",
    "While around 40% of the respondents have not used any Big Data and Analytics products in the last 5 years, those who have used, have selected Google BigQuery, AWS Redshift, Databricks, Teradata and AWS EMR as the top 5 Big Data and Analytics products used in the last 5 years. "
   ]
  },
  {
   "cell_type": "code",
   "execution_count": null,
   "metadata": {
    "_kg_hide-input": true,
    "_uuid": "bac3b2c48da2c8f5571216eeecff083c9b52df92"
   },
   "outputs": [],
   "source": [
    "multichoice %>% \n",
    "select(Q1,Q30_Part_1:Q30_Part_25)%>%\n",
    "filter(Q1 == \"Female\"|Q1 == \"Male\")%>%\n",
    "gather(2:26, key = \"questions\", value = \"BigData_Products\")%>%\n",
    "group_by(Q1,BigData_Products)%>%\n",
    "filter(!is.na(BigData_Products))%>%\n",
    "#filter(!is.na(Q1))%>%\n",
    "summarise(Count = length(BigData_Products))%>%\n",
    "mutate(percent =  prop.table(Count)*100)%>%\n",
    "ggplot(aes(x = reorder(BigData_Products,percent), y = percent, fill = Q1)) + \n",
    "geom_col(position = \"dodge\") + \n",
    "scale_fill_manual(values=c(\"#00AFBB\", \"#E7B800\"))+coord_flip()+\n",
    "   #geom_text(aes(label = sprintf(\"%.2f%%\", percent)), hjust = 0.5,vjust = 0.1, size =3)+ \n",
    "      scale_x_discrete(labels = function(x) str_wrap(x, width = 40))+\n",
    "         theme5+ xlab(\"\") + ylab(\"Percent\")+\n",
    "              ggtitle(\"Big data and Analytics products used at work or school in the last 5 years \")"
   ]
  },
  {
   "cell_type": "markdown",
   "metadata": {
    "_uuid": "1f31a36df90730c8b5129eb1142628d3dddc30fc"
   },
   "source": [
    "**31(Part-1 to Part-12) & 32- Data Types used most often:**\n",
    "\n",
    "The **Female respondents** have used more traditional data types(I mean the usual, **numeric, categorical and text data**), while the percent of **Male respondents **is **more** in case of **tabular, image, sensor, audio, video data** etc. "
   ]
  },
  {
   "cell_type": "code",
   "execution_count": null,
   "metadata": {
    "_kg_hide-input": true,
    "_uuid": "5241af1621b02c17b1ebaba1be51229fcec5b137"
   },
   "outputs": [],
   "source": [
    "multichoice %>% \n",
    "select(Q1,Q31_Part_1:Q31_Part_12)%>%\n",
    "filter(Q1 == \"Female\"|Q1 == \"Male\")%>%\n",
    "gather(2:13, key = \"questions\", value = \"DataType\")%>%\n",
    "group_by(Q1,DataType)%>%\n",
    "filter(!is.na(DataType))%>%\n",
    "summarise(Count = length(DataType))%>%\n",
    "mutate(percent =  prop.table(Count)*100)%>%\n",
    "ggplot(aes(x = reorder(DataType,-percent), y = percent, fill = Q1)) + \n",
    "geom_col(position = \"dodge\") + \n",
    "scale_fill_manual(values=c(\"#00AFBB\", \"#E7B800\"))+#coord_flip()+\n",
    "   #geom_text(aes(label = sprintf(\"%.2f%%\", percent)), hjust = 0.5,vjust = 0.1, size =3)+ \n",
    "      scale_x_discrete(labels = function(x) str_wrap(x, width = 40))+\n",
    "         theme5+ xlab(\"\") + ylab(\"Percent\")+\n",
    "              ggtitle(\"Data Types used most at work or school\")"
   ]
  },
  {
   "cell_type": "code",
   "execution_count": null,
   "metadata": {
    "_kg_hide-input": true,
    "_uuid": "3e632f80da0d4a1d1081f6b915af6314135a0677"
   },
   "outputs": [],
   "source": [
    "multichoice %>% \n",
    "select(Q1,Q32)%>%\n",
    "filter(Q1 == \"Female\"|Q1 == \"Male\")%>%\n",
    "group_by(Q1,Q32)%>%\n",
    "filter(!is.na(Q32))%>%\n",
    "summarise(Count = length(Q32))%>%\n",
    "mutate(percent =  prop.table(Count)*100)%>%\n",
    "ggplot(aes(x = reorder(Q32,-percent), y = percent, fill = Q1)) + \n",
    "geom_col(position = \"dodge\") + \n",
    "scale_fill_manual(values=c(\"#00AFBB\", \"#E7B800\"))+#coord_flip()+\n",
    "   #geom_text(aes(label = sprintf(\"%.2f%%\", percent)), hjust = 0.5,vjust = 0.1, size =3)+ \n",
    "      scale_x_discrete(labels = function(x) str_wrap(x, width = 40))+\n",
    "         theme5+ xlab(\"\") + ylab(\"Percent\")+\n",
    "              ggtitle(\"Data Types used most at work or school\")"
   ]
  },
  {
   "cell_type": "markdown",
   "metadata": {
    "_uuid": "73d52501372928a0781fcc6dddd447b683596aac"
   },
   "source": [
    "**33(Part-1 to Part-12) Data Source used for getting Public Data:**\n",
    "\n",
    "Female Respondents are **more likely** to get the data from **Data aggregator platforms, government websites or University research group websites** as compared to using other sources such as using google search or web-scrapping. "
   ]
  },
  {
   "cell_type": "code",
   "execution_count": null,
   "metadata": {
    "_kg_hide-input": true,
    "_uuid": "980380c6c56dc2b1129ec57d7e7317f9e28d42d3"
   },
   "outputs": [],
   "source": [
    "multichoice %>% \n",
    "select(Q1,Q33_Part_1:Q33_Part_11)%>%\n",
    "filter(Q1 == \"Female\"|Q1 == \"Male\")%>%\n",
    "gather(2:12, key = \"questions\", value = \"DataSource\")%>%\n",
    "group_by(Q1,DataSource)%>%\n",
    "filter(!is.na(DataSource))%>%\n",
    "summarise(Count = length(DataSource))%>%\n",
    "mutate(percent =  prop.table(Count)*100)%>%\n",
    "ggplot(aes(x = reorder(DataSource,-percent), y = percent, fill = Q1)) + \n",
    "geom_col(position = \"dodge\") + \n",
    "scale_fill_manual(values=c(\"#00AFBB\", \"#E7B800\"))+#coord_flip()+\n",
    "   #geom_text(aes(label = sprintf(\"%.2f%%\", percent)), hjust = 0.5,vjust = 0.1, size =3)+ \n",
    "      scale_x_discrete(labels = function(x) str_wrap(x, width = 30))+\n",
    "         theme5+ xlab(\"\") + ylab(\"Percent\")+\n",
    "              ggtitle(\"Data Source used for Public Data\")"
   ]
  },
  {
   "cell_type": "markdown",
   "metadata": {
    "_uuid": "dc977c2a958357ac41d9cb310f53b99a671aa34b"
   },
   "source": [
    "**34(Part-1 to Part-6) Percent of time spent on Gathering data, Cleaning data, Model Building, Model Deployment, Communicating with stakeholders**\n",
    "\n",
    "I am trying to learn the median values of each activity here. There are several outliers though. However, when we compare the median percent of time spent on each activity for the Female and Male respondents, we find that around **10% **of the time is spent on **gathering data**, **20% **of the time is spent on **cleaning data,** **10% **of the time is spent of **model building**, **20%** on **model deployment**, **5%** on **finding insights and communicating** with the stakeholders and **10%** of the time is spent on **other **tasks. "
   ]
  },
  {
   "cell_type": "code",
   "execution_count": null,
   "metadata": {
    "_kg_hide-input": true,
    "_uuid": "30ce62d418a9e540b7d93a9b2d70bf40ed1656c5"
   },
   "outputs": [],
   "source": [
    "numcols <- c(\"Q34_Part_1\",\"Q34_Part_2\",\"Q34_Part_3\",\"Q34_Part_4\",\"Q34_Part_5\",\"Q34_Part_6\")\n",
    "\n",
    "multichoice[,numcols] <- sapply(multichoice[,numcols], as.numeric)\n",
    "\n",
    "\n",
    "a <- multichoice %>% \n",
    "select(Q1,Q34_Part_1)%>%\n",
    "filter(Q1 == \"Female\"|Q1 == \"Male\")%>%\n",
    "filter(Q34_Part_1 < 50)%>%\n",
    "ggplot(aes(\"\",Q34_Part_1, fill = Q1))+geom_boxplot()+theme5+\n",
    "scale_fill_manual(values=c(\"#00AFBB\", \"#E7B800\"))+\n",
    "xlab(\"\") + ylab(\"Percent\")+ ggtitle(\"Gathering Data\")\n",
    "\n",
    "b <- multichoice %>% \n",
    "select(Q1,Q34_Part_2)%>%\n",
    "filter(Q1 == \"Female\"|Q1 == \"Male\")%>%\n",
    "filter(Q34_Part_2 < 60)%>%\n",
    "ggplot(aes(\"\", Q34_Part_2, fill = Q1))+geom_boxplot()+theme5+\n",
    "scale_fill_manual(values=c(\"#00AFBB\", \"#E7B800\"))+\n",
    "xlab(\"\") + ylab(\"Percent\")+ggtitle(\"Cleaning Data\")\n",
    "\n",
    "c <- multichoice %>% \n",
    "select(Q1,Q34_Part_3)%>%\n",
    "filter(Q1 == \"Female\"|Q1 == \"Male\")%>%\n",
    "filter(Q34_Part_3 < 50)%>%\n",
    "ggplot(aes(\"\", Q34_Part_3, fill = Q1))+geom_boxplot()+theme5+\n",
    "scale_fill_manual(values=c(\"#00AFBB\", \"#E7B800\"))+\n",
    "xlab(\"\") + ylab(\"Percent\")+ggtitle(\"Model Building\")\n",
    "\n",
    "d <- multichoice %>% \n",
    "select(Q1,Q34_Part_4)%>%\n",
    "filter(Q1 == \"Female\"|Q1 == \"Male\")%>%\n",
    "filter(Q34_Part_4 < 65)%>%\n",
    "ggplot(aes(\"\", Q34_Part_4, fill = Q1))+geom_boxplot()+theme5+\n",
    "scale_fill_manual(values=c(\"#00AFBB\", \"#E7B800\"))+\n",
    "xlab(\"\") + ylab(\"Percent\")+ggtitle(\"Putting Model into Production\")\n",
    "\n",
    "e <- multichoice %>% \n",
    "select(Q1,Q34_Part_5)%>%\n",
    "filter(Q1 == \"Female\"|Q1 == \"Male\")%>%\n",
    "filter(Q34_Part_5 < 25)%>%\n",
    "ggplot(aes(\"\", Q34_Part_5, fill = Q1))+geom_boxplot()+theme5+\n",
    "scale_fill_manual(values=c(\"#00AFBB\", \"#E7B800\"))+\n",
    "xlab(\"\") + ylab(\"Percent\")+ggtitle(\"Finding insights & Communicating\\nwith stakeholders\")\n",
    "\n",
    "f <- multichoice %>% \n",
    "select(Q1,Q34_Part_6)%>%\n",
    "filter(Q1 == \"Female\"|Q1 == \"Male\")%>%\n",
    "filter(Q34_Part_6 < 50)%>%\n",
    "ggplot(aes(\"\", Q34_Part_6, fill = Q1))+geom_boxplot()+theme5+\n",
    "scale_fill_manual(values=c(\"#00AFBB\", \"#E7B800\"))+\n",
    "xlab(\"\") + ylab(\"Percent\")+ggtitle(\"Other tasks\")\n",
    "\n",
    "plot_grid(a,b,c,d,e,f, hjust = 0, vjust = 1)\n",
    "          "
   ]
  },
  {
   "cell_type": "markdown",
   "metadata": {
    "_uuid": "d887c202457ac96f21078f4e23b22e2277d1c2a5"
   },
   "source": [
    "**35(Part-1 to Part-6)Percent of machine learning/data science training falls under Self Study, Online Courses, Work, University, Kaggle Competitions and Other:**\n",
    "\n",
    "While the **median percent **of data science training falling under Self Study, Online Courses and Work is **slightly higher **for **Male** respondents when compared to Female respondents, when it comes to **learining in University, Female **respondents have  **higher median percent **as compared to Male respondents. May be this because of lot of Female Kagglers are studying in the university. "
   ]
  },
  {
   "cell_type": "code",
   "execution_count": null,
   "metadata": {
    "_kg_hide-input": true,
    "_uuid": "6beb8731e7bf33ba51fa424fad0664e36a24f672"
   },
   "outputs": [],
   "source": [
    "numcols1 <- c(\"Q35_Part_1\",\"Q35_Part_2\",\"Q35_Part_3\",\"Q35_Part_4\",\"Q35_Part_5\",\"Q35_Part_6\")\n",
    "\n",
    "multichoice[,numcols1] <- sapply(multichoice[,numcols1], as.numeric)\n",
    "\n",
    "\n",
    "a <- multichoice %>% \n",
    "select(Q1,Q35_Part_1)%>%\n",
    "filter(Q1 == \"Female\"|Q1 == \"Male\")%>%\n",
    "ggplot(aes(\"\",Q35_Part_1, fill = Q1))+geom_boxplot()+theme5+\n",
    "scale_fill_manual(values=c(\"#00AFBB\", \"#E7B800\"))+\n",
    "xlab(\"\") + ylab(\"Percent\")+ ggtitle(\"Self-taught\")\n",
    "\n",
    "b <- multichoice %>% \n",
    "select(Q1,Q35_Part_2)%>%\n",
    "filter(Q1 == \"Female\"|Q1 == \"Male\")%>%\n",
    "ggplot(aes(\"\", Q35_Part_2, fill = Q1))+geom_boxplot()+theme5+\n",
    "scale_fill_manual(values=c(\"#00AFBB\", \"#E7B800\"))+\n",
    "xlab(\"\") + ylab(\"Percent\")+ggtitle(\" Online courses\\n(Coursera, Udemy, edX, etc.)\")\n",
    "\n",
    "c <- multichoice %>% \n",
    "select(Q1,Q35_Part_3)%>%\n",
    "filter(Q1 == \"Female\"|Q1 == \"Male\")%>%\n",
    "#filter(Q35_Part_3 < 75)%>%\n",
    "ggplot(aes(\"\", Q35_Part_3, fill = Q1))+geom_boxplot()+theme5+\n",
    "scale_fill_manual(values=c(\"#00AFBB\", \"#E7B800\"))+\n",
    "xlab(\"\") + ylab(\"Percent\")+ggtitle(\"Work\")\n",
    "\n",
    "d <- multichoice %>% \n",
    "select(Q1,Q35_Part_4)%>%\n",
    "filter(Q1 == \"Female\"|Q1 == \"Male\")%>%\n",
    "ggplot(aes(\"\", Q35_Part_4, fill = Q1))+geom_boxplot()+theme5+\n",
    "scale_fill_manual(values=c(\"#00AFBB\", \"#E7B800\"))+\n",
    "xlab(\"\") + ylab(\"Percent\")+ggtitle(\"University\")\n",
    "\n",
    "e <- multichoice %>% \n",
    "select(Q1,Q35_Part_5)%>%\n",
    "filter(Q1 == \"Female\"|Q1 == \"Male\")%>%\n",
    "#filter(Q35_Part_5 < 1)%>%\n",
    "ggplot(aes(\"\", Q35_Part_5, fill = Q1))+geom_boxplot()+theme5+\n",
    "scale_fill_manual(values=c(\"#00AFBB\", \"#E7B800\"))+\n",
    "xlab(\"\") + ylab(\"Percent\")+ggtitle(\" Kaggle competitions\")\n",
    "\n",
    "f <- multichoice %>% \n",
    "select(Q1,Q35_Part_6)%>%\n",
    "filter(Q1 == \"Female\"|Q1 == \"Male\")%>%\n",
    "filter(Q35_Part_6 < 5)%>%\n",
    "ggplot(aes(\"\", Q35_Part_6, fill = Q1))+geom_boxplot()+theme5+\n",
    "scale_fill_manual(values=c(\"#00AFBB\", \"#E7B800\"))+\n",
    "xlab(\"\") + ylab(\"Percent\")+ggtitle(\"Other\")\n",
    "\n",
    "plot_grid(a,b,c,d,e,f, hjust = 0, vjust = 1)"
   ]
  },
  {
   "cell_type": "markdown",
   "metadata": {
    "_uuid": "5411af13c725668e9c6e256f88e340793442f157"
   },
   "source": [
    "**36(Part-1 to Part-13)Online Platforms used for data science courses:**\n",
    "\n",
    "**Coursera **is the preferred choice for both Female and Male Kagglers, followed by DataCamp and Udemy. One thing to notice here that, **Female Kagglers** are more in percent in **DataCamp **than their Male counterparts. Female Kagglers do prefer taking online university courses. "
   ]
  },
  {
   "cell_type": "code",
   "execution_count": null,
   "metadata": {
    "_kg_hide-input": true,
    "_uuid": "a057f9de8b4965e7dc08e4c374118825d2e3ce57"
   },
   "outputs": [],
   "source": [
    "multichoice %>% \n",
    "select(Q1,Q36_Part_1:Q36_Part_13)%>%\n",
    "filter(Q1 == \"Female\"|Q1 == \"Male\")%>%\n",
    "gather(2:14, key = \"questions\", value = \"OnlinePlatform\")%>%\n",
    "group_by(Q1,OnlinePlatform)%>%\n",
    "filter(!is.na(OnlinePlatform))%>%\n",
    "summarise(Count = length(OnlinePlatform))%>%\n",
    "mutate(percent =  prop.table(Count)*100)%>%\n",
    "ggplot(aes(x = reorder(OnlinePlatform,-percent), y = percent, fill = Q1)) + \n",
    "geom_col(position = \"dodge\") + \n",
    "scale_fill_manual(values=c(\"#00AFBB\", \"#E7B800\"))+#coord_flip()+\n",
    "   #geom_text(aes(label = sprintf(\"%.2f%%\", percent)), hjust = 0.5,vjust = 0.1, size =3)+ \n",
    "      scale_x_discrete(labels = function(x) str_wrap(x, width = 30))+\n",
    "         theme5+ xlab(\"\") + ylab(\"Percent\")+\n",
    "              ggtitle(\"Online Platform used for learning\")"
   ]
  },
  {
   "cell_type": "markdown",
   "metadata": {
    "_uuid": "775e52ab913681fe5875673f76b3babd47e4706a"
   },
   "source": [
    "**37-Online Platform where most time is spent:**\n",
    "\n",
    "**Coursera** remains the go to platform for spending time learning for both categories here. DataCamp is popular among Wogglers and Udemy among the Male Kagglers(w.r.t percentages)."
   ]
  },
  {
   "cell_type": "code",
   "execution_count": null,
   "metadata": {
    "_kg_hide-input": true,
    "_uuid": "8136ab6efb04eb80384355c3c0e557d2b688720d"
   },
   "outputs": [],
   "source": [
    "multichoice %>% \n",
    "select(Q1,Q37)%>%\n",
    "filter(Q1 == \"Female\"|Q1 == \"Male\")%>%\n",
    "group_by(Q1,Q37)%>%\n",
    "filter(!is.na(Q37))%>%\n",
    "summarise(Count = length(Q37))%>%\n",
    "mutate(percent =  prop.table(Count)*100)%>%\n",
    "ggplot(aes(x = reorder(Q37,-percent), y = percent, fill = Q1)) + \n",
    "geom_col(position = \"dodge\") + \n",
    "scale_fill_manual(values=c(\"#00AFBB\", \"#E7B800\"))+#coord_flip()+\n",
    "   #geom_text(aes(label = sprintf(\"%.2f%%\", percent)), hjust = 0.5,vjust = 0.1, size =3)+ \n",
    "      scale_x_discrete(labels = function(x) str_wrap(x, width = 40))+\n",
    "         theme5+ xlab(\"\") + ylab(\"Percent\")+\n",
    "              ggtitle(\"Online Platform where most time is spent\")"
   ]
  },
  {
   "cell_type": "markdown",
   "metadata": {
    "_uuid": "ad05e4f49751fcd2342683938ad60ca2cdf27ebc"
   },
   "source": [
    "**38-Favorite Media Sources for data science topics:**\n",
    "\n",
    "**Kaggle forums & Medium blog posts** are favourites here, with **Female** Kagglers representing a slightly **higher** percentage w.r.t the Male Kagglers. The same trend can be seen in case of **KDNuggets** and **Journal Publications **as well. However, **Male** Kagglers are more in percent in case of **ArXiv & Preprints, Siraj Raval YouTube Channel** and **HackerNews.**"
   ]
  },
  {
   "cell_type": "code",
   "execution_count": null,
   "metadata": {
    "_kg_hide-input": true,
    "_uuid": "e1c7129ac7c9d8a9b4b8fc5e9e2c0d1a27afaede"
   },
   "outputs": [],
   "source": [
    "multichoice %>% \n",
    "select(Q1,Q38_Part_1:Q38_Part_22)%>%\n",
    "filter(Q1 == \"Female\"|Q1 == \"Male\")%>%\n",
    "gather(2:23, key = \"questions\", value = \"MediaSources\")%>%\n",
    "group_by(Q1,MediaSources)%>%\n",
    "filter(!is.na(MediaSources))%>%\n",
    "summarise(Count = length(MediaSources))%>%\n",
    "mutate(percent =  prop.table(Count)*100)%>%\n",
    "ggplot(aes(x = reorder(MediaSources,-percent), y = percent, fill = Q1)) + \n",
    "geom_col(position = \"dodge\") + \n",
    "scale_fill_manual(values=c(\"#00AFBB\", \"#E7B800\"))+#coord_flip()+\n",
    "   #geom_text(aes(label = sprintf(\"%.2f%%\", percent)), hjust = 0.5,vjust = 0.1, size =3)+ \n",
    "      scale_x_discrete(labels = function(x) str_wrap(x, width = 30))+\n",
    "         theme5+ xlab(\"\") + ylab(\"Percent\")+\n",
    "              ggtitle(\"Favorite Media Sources for data science topics\")"
   ]
  },
  {
   "cell_type": "markdown",
   "metadata": {
    "_uuid": "769b56736caf7053ab4fd2e82f99c0c36e35a89a"
   },
   "source": [
    "**39(Part-1)-Online learning platforms as compared to the quality of the education provided by traditional brick and mortar institutions:**\n",
    "\n",
    "The **ladies** have **slightly neutral **views about the **online learning platform**, when compared to their Male counterparts. The **percent of ladies** considering online platform much** better** than learning in institutions is **less** than the percent of ladies considering it otherwise."
   ]
  },
  {
   "cell_type": "code",
   "execution_count": null,
   "metadata": {
    "_kg_hide-input": true,
    "_uuid": "73cd06ee69248c1971e6b945d8808cd34346c270"
   },
   "outputs": [],
   "source": [
    "options(repr.plot.width=12, repr.plot.height=8)\n",
    "\n",
    "multichoice$Q39_Part_1 <- factor(multichoice$Q39_Part_1, \n",
    "                                 level = c(\"Much worse\",\"Slightly worse\",\n",
    "                                           \"Neither better nor worse\",\"Slightly better\",\n",
    "                                           \"Much better\",\"No opinion; I do not know\"))\n",
    "\n",
    "\n",
    "\n",
    "multichoice %>% \n",
    "select(Q1,Q39_Part_1)%>%\n",
    "filter(Q1 == \"Female\"|Q1 == \"Male\")%>%\n",
    "group_by(Q1,Q39_Part_1)%>%\n",
    "filter(!is.na(Q39_Part_1))%>%\n",
    "summarise(Count = length(Q39_Part_1))%>%\n",
    "mutate(percent =  prop.table(Count)*100)%>%\n",
    "ggplot(aes(x = Q39_Part_1, y = percent, fill = Q1)) + \n",
    "geom_col(position = \"dodge\") + \n",
    "scale_fill_manual(values=c(\"#00AFBB\", \"#E7B800\"))+\n",
    "      scale_x_discrete(labels = function(x) str_wrap(x, width = 30))+\n",
    "         theme5+ xlab(\"\") + ylab(\"Percent\")+\n",
    "              ggtitle(\"Online MOOCs Vs. Traditional Institution Learnings\")"
   ]
  },
  {
   "cell_type": "markdown",
   "metadata": {
    "_uuid": "eacc1d167c34b251d3cb2d074b3ba1b748afad14"
   },
   "source": [
    "**39(Part-2)- In-person bootcamps as compared to the quality of the education provided by traditional brick and mortar institutions:**\n",
    "\n",
    "Most of the Kagglers, have no opinion, on which one is better, In-person bootcamps or learning in institutions. "
   ]
  },
  {
   "cell_type": "code",
   "execution_count": null,
   "metadata": {
    "_kg_hide-input": true,
    "_uuid": "7f84dd4ce6e23f16037cd13449ec453f7c91d2fa"
   },
   "outputs": [],
   "source": [
    "\n",
    "multichoice$Q39_Part_2 <- factor(multichoice$Q39_Part_2, \n",
    "                                 level = c(\"Much worse\",\"Slightly worse\",\n",
    "                                           \"Neither better nor worse\",\"Slightly better\",\n",
    "                                           \"Much better\",\"No opinion; I do not know\"))\n",
    "\n",
    "\n",
    "multichoice %>% \n",
    "select(Q1,Q39_Part_2)%>%\n",
    "filter(Q1 == \"Female\"|Q1 == \"Male\")%>%\n",
    "group_by(Q1,Q39_Part_2)%>%\n",
    "filter(!is.na(Q39_Part_2))%>%\n",
    "summarise(Count = length(Q39_Part_2))%>%\n",
    "mutate(percent =  prop.table(Count)*100)%>%\n",
    "ggplot(aes(x = Q39_Part_2, y = percent, fill = Q1)) + \n",
    "geom_col(position = \"dodge\") + \n",
    "scale_fill_manual(values=c(\"#00AFBB\", \"#E7B800\"))+\n",
    "      scale_x_discrete(labels = function(x) str_wrap(x, width = 30))+\n",
    "         theme5+ xlab(\"\") + ylab(\"Percent\")+\n",
    "              ggtitle(\"In-person Bootcamp Vs. Traditional Institution Learnings\")"
   ]
  },
  {
   "cell_type": "markdown",
   "metadata": {
    "_uuid": "de2f44f7ec660249575ce19c59c1c9056d74fcd0"
   },
   "source": [
    "**40- Independent Projects Vs. Academic Achievements:**\n",
    "\n",
    "Like most of the respondents, value independent projects on par with academic achievements. Female Kagglers are slightly less in percent, who think independent projects are much important than academic achievements with respect to Male Kagglers. "
   ]
  },
  {
   "cell_type": "code",
   "execution_count": null,
   "metadata": {
    "_kg_hide-input": true,
    "_uuid": "50da944148f8790d9803227bd421ec4f5500cf20"
   },
   "outputs": [],
   "source": [
    "multichoice$Q40 <- factor(multichoice$Q40, \n",
    "        level = c(\"Independent projects are much less important than academic achievements\",\n",
    "                  \"Independent projects are slightly less important than academic achievements\",\n",
    "                  \"Independent projects are equally important as academic achievements\",\n",
    "                  \"Independent projects are slightly more important than academic achievements\",\n",
    "                  \"Independent projects are much more important than academic achievements\",\n",
    "                  \"No opinion; I do not know\"))\n",
    "\n",
    "\n",
    "\n",
    "multichoice %>% \n",
    "select(Q1,Q40)%>%\n",
    "filter(Q1 == \"Female\"|Q1 == \"Male\")%>%\n",
    "group_by(Q1,Q40)%>%\n",
    "filter(!is.na(Q40))%>%\n",
    "summarise(Count = length(Q40))%>%\n",
    "mutate(percent =  prop.table(Count)*100)%>%\n",
    "ggplot(aes(x = Q40, y = percent, fill = Q1)) + \n",
    "geom_col(position = \"dodge\") + \n",
    "scale_fill_manual(values=c(\"#00AFBB\", \"#E7B800\"))+\n",
    "      scale_x_discrete(labels = function(x) str_wrap(x, width = 10))+\n",
    "         theme2+ xlab(\"\") + ylab(\"Percent\")+\n",
    "              ggtitle(\"Academic Achievements Vs. Independent Projects\")"
   ]
  },
  {
   "cell_type": "markdown",
   "metadata": {
    "_uuid": "732a1d67ff9a6f1669b70208d1916287a1a5b73d"
   },
   "source": [
    "**41(Part-1) Importance of Fairness and bias in ML algorithms:**\n",
    "\n",
    "While most of the ladies do understand the importance of Fairness and bias in ML algorithms, but most of their male counterparts think otherwise. Percentage of Females considering Fairness and bias very important is higher than the percentage of Males considering the same. \n"
   ]
  },
  {
   "cell_type": "code",
   "execution_count": null,
   "metadata": {
    "_kg_hide-input": true,
    "_uuid": "2112f1cacdd332efec7d36108ac83dc8b40b2a68"
   },
   "outputs": [],
   "source": [
    "multichoice$Q41_Part_1 <- factor(multichoice$Q41_Part_1, \n",
    "                                 level = c(\"Not at all important\",\"Slightly important\",\n",
    "                                           \"Very important\",\"No opinion; I do not know\"))\n",
    "\n",
    "\n",
    "multichoice %>% \n",
    "select(Q1,Q41_Part_1)%>%\n",
    "filter(Q1 == \"Female\"|Q1 == \"Male\")%>%\n",
    "group_by(Q1,Q41_Part_1)%>%\n",
    "filter(!is.na(Q41_Part_1))%>%\n",
    "summarise(Count = length(Q41_Part_1))%>%\n",
    "mutate(percent =  prop.table(Count)*100)%>%\n",
    "ggplot(aes(x = Q41_Part_1, y = percent, fill = Q1)) + \n",
    "geom_col(position = \"dodge\") + \n",
    "scale_fill_manual(values=c(\"#00AFBB\", \"#E7B800\"))+\n",
    "      scale_x_discrete(labels = function(x) str_wrap(x, width = 10))+\n",
    "         theme2+ xlab(\"\") + ylab(\"Percent\")+\n",
    "              ggtitle(\"Importance of Fairness and bias in ML algorithms\")"
   ]
  },
  {
   "cell_type": "markdown",
   "metadata": {
    "_uuid": "644ab3a1ac48903826cd9dae1fdbde391799a517"
   },
   "source": [
    "**41(Part-2) Ability to explain ML model outputs and/or predictions:**\n",
    "\n",
    "More than 70% of the Female Kagglers consider, the ability to  explain ML model outputs and/or predictions is very important."
   ]
  },
  {
   "cell_type": "code",
   "execution_count": null,
   "metadata": {
    "_kg_hide-input": true,
    "_uuid": "f3a7356cb0be853d18ab095d518884bb3f9f65d2"
   },
   "outputs": [],
   "source": [
    "multichoice$Q41_Part_2 <- factor(multichoice$Q41_Part_2, \n",
    "                                 level = c(\"Not at all important\",\"Slightly important\",\n",
    "                                           \"Very important\",\"No opinion; I do not know\"))\n",
    "\n",
    "\n",
    "multichoice %>% \n",
    "select(Q1,Q41_Part_2)%>%\n",
    "filter(Q1 == \"Female\"|Q1 == \"Male\")%>%\n",
    "group_by(Q1,Q41_Part_2)%>%\n",
    "filter(!is.na(Q41_Part_2))%>%\n",
    "summarise(Count = length(Q41_Part_2))%>%\n",
    "mutate(percent =  prop.table(Count)*100)%>%\n",
    "ggplot(aes(x = Q41_Part_2, y = percent, fill = Q1)) + \n",
    "geom_col(position = \"dodge\") + \n",
    "scale_fill_manual(values=c(\"#00AFBB\", \"#E7B800\"))+\n",
    "      scale_x_discrete(labels = function(x) str_wrap(x, width = 10))+\n",
    "         theme2+ xlab(\"\") + ylab(\"Percent\")+\n",
    "              ggtitle(\"Ability to explain ML model outputs and/or predictions\")"
   ]
  },
  {
   "cell_type": "markdown",
   "metadata": {
    "_uuid": "812443cdb4ca718e389e4a3d51d2843303d21404"
   },
   "source": [
    "**41(Part-3) Reproducibility in data science:**\n",
    "\n",
    "Close to 70% of the Kagglers consider, reproducibility in data science is very important."
   ]
  },
  {
   "cell_type": "code",
   "execution_count": null,
   "metadata": {
    "_kg_hide-input": true,
    "_uuid": "d83a85b29b240cb970cccc48c9f4360c792a7a83"
   },
   "outputs": [],
   "source": [
    "multichoice$Q41_Part_3 <- factor(multichoice$Q41_Part_3, \n",
    "                                 level = c(\"Not at all important\",\"Slightly important\",\n",
    "                                           \"Very important\",\"No opinion; I do not know\"))\n",
    "\n",
    "\n",
    "multichoice %>% \n",
    "select(Q1,Q41_Part_3)%>%\n",
    "filter(Q1 == \"Female\"|Q1 == \"Male\")%>%\n",
    "group_by(Q1,Q41_Part_3)%>%\n",
    "filter(!is.na(Q41_Part_3))%>%\n",
    "summarise(Count = length(Q41_Part_3))%>%\n",
    "mutate(percent =  prop.table(Count)*100)%>%\n",
    "ggplot(aes(x = Q41_Part_3, y = percent, fill = Q1)) + \n",
    "geom_col(position = \"dodge\") + \n",
    "scale_fill_manual(values=c(\"#00AFBB\", \"#E7B800\"))+\n",
    "      scale_x_discrete(labels = function(x) str_wrap(x, width = 10))+\n",
    "         theme2+ xlab(\"\") + ylab(\"Percent\")+\n",
    "              ggtitle(\"Reproducibility in data science\")"
   ]
  },
  {
   "cell_type": "markdown",
   "metadata": {
    "_uuid": "49110d5e20eae3fc2cf15b6b4c825de7be9da91e"
   },
   "source": [
    "**42(Part-1 to Part-5) Metrics used by Organizations to determine Model's Success:**\n",
    "\n",
    "For most of the organizations, where kagglers work, **accuracy and business goals**, **matter most** while deciding the success of an ML Model. The **female** percent is **slightly higher** in the organizations that consider, **bias as a metrics**. While around 19% of Female kagglers are not associated with any organization that builds ML models.  "
   ]
  },
  {
   "cell_type": "code",
   "execution_count": null,
   "metadata": {
    "_kg_hide-input": true,
    "_uuid": "b456a91a30dc4d8ee24ff4b301a026632d776eb4"
   },
   "outputs": [],
   "source": [
    "multichoice %>% \n",
    "select(Q1,Q42_Part_1:Q42_Part_5)%>%\n",
    "filter(Q1 == \"Female\"|Q1 == \"Male\")%>%\n",
    "gather(2:6, key = \"questions\", value = \"Metrics\")%>%\n",
    "group_by(Q1,Metrics)%>%\n",
    "filter(!is.na(Metrics))%>%\n",
    "summarise(Count = length(Metrics))%>%\n",
    "mutate(percent =  prop.table(Count)*100)%>%\n",
    "ggplot(aes(x = reorder(Metrics,-percent), y = percent, fill = Q1)) + \n",
    "geom_col(position = \"dodge\") + \n",
    "scale_fill_manual(values=c(\"#00AFBB\", \"#E7B800\"))+#coord_flip()+\n",
    "   #geom_text(aes(label = sprintf(\"%.2f%%\", percent)), hjust = 0.5,vjust = 0.1, size =3)+ \n",
    "      scale_x_discrete(labels = function(x) str_wrap(x, width = 15))+\n",
    "         theme2+ xlab(\"\") + ylab(\"Percent\")+\n",
    "              ggtitle(\"Metrics used by Organizations to determine Model's Success\")"
   ]
  },
  {
   "cell_type": "markdown",
   "metadata": {
    "_uuid": "812287ac10a8d6484bf8d33abd31959f12e88f28"
   },
   "source": [
    "**43-Percent of data projects involved exploring unfair bias in the dataset and/or algorithm:**\n",
    "\n",
    "As indicated above, most of the organizations do not bother to explore unfair bias most of the time. "
   ]
  },
  {
   "cell_type": "code",
   "execution_count": null,
   "metadata": {
    "_kg_hide-input": true,
    "_uuid": "8aa700c3f587996b2f37bd30dff2ea34bf760b33"
   },
   "outputs": [],
   "source": [
    "#multichoice$Q43 <- factor(multichoice$Q43, \n",
    "                               #  level = c(\"0-10\",\"20-30\",\"30-40\",\"40-50\",\"50-60\",\n",
    "                                         #  \"60-70\",\"70-80\",\"80-90\",\"90-100\"))\n",
    "\n",
    "\n",
    "multichoice %>% \n",
    "select(Q1,Q43)%>%\n",
    "filter(Q1 == \"Female\"|Q1 == \"Male\")%>%\n",
    "group_by(Q1,Q43)%>%\n",
    "filter(!is.na(Q43))%>%\n",
    "summarise(Count = length(Q43))%>%\n",
    "mutate(percent =  prop.table(Count)*100)%>%\n",
    "ggplot(aes(x = Q43, y = percent, fill = Q1)) + \n",
    "geom_col(position = \"dodge\") + \n",
    "scale_fill_manual(values=c(\"#00AFBB\", \"#E7B800\"))+\n",
    "      scale_x_discrete(labels = function(x) str_wrap(x, width = 10))+\n",
    "         theme2+ xlab(\"\") + ylab(\"Percent\")+\n",
    "              ggtitle(\"Exploring unfair bias\")"
   ]
  },
  {
   "cell_type": "markdown",
   "metadata": {
    "_uuid": "019392ec366dea86d099be0c7fde3e521c80624e"
   },
   "source": [
    "**44(Part-1 to Part-6)Challenges in ensuring fairness and unbiased algorithm:**\n",
    "\n",
    "While there are a lot of challenges faced while ensuring fairness in the model, out which, difficulty in collecting enough data for the unfairly targeted groups, tops the list. "
   ]
  },
  {
   "cell_type": "code",
   "execution_count": null,
   "metadata": {
    "_kg_hide-input": true,
    "_uuid": "4d19721ede4deed5e187dd9c1b079e92b93158a5"
   },
   "outputs": [],
   "source": [
    "multichoice %>% \n",
    "select(Q1,Q44_Part_1:Q44_Part_6)%>%\n",
    "filter(Q1 == \"Female\"|Q1 == \"Male\")%>%\n",
    "gather(2:7, key = \"questions\", value = \"Metrics\")%>%\n",
    "group_by(Q1,Metrics)%>%\n",
    "filter(!is.na(Metrics))%>%\n",
    "summarise(Count = length(Metrics))%>%\n",
    "mutate(percent =  prop.table(Count)*100)%>%\n",
    "ggplot(aes(x = reorder(Metrics,-percent), y = percent, fill = Q1)) + \n",
    "geom_col(position = \"dodge\") + \n",
    "scale_fill_manual(values=c(\"#00AFBB\", \"#E7B800\"))+#coord_flip()+\n",
    "   #geom_text(aes(label = sprintf(\"%.2f%%\", percent)), hjust = 0.5,vjust = 0.1, size =3)+ \n",
    "      scale_x_discrete(labels = function(x) str_wrap(x, width = 15))+\n",
    "         theme2+ xlab(\"\") + ylab(\"Percent\")+\n",
    "              ggtitle(\"Challenges in ensuring fairness and unbiased algorithm\")"
   ]
  },
  {
   "cell_type": "markdown",
   "metadata": {
    "_uuid": "8eb38fbb14177cef27d8d235a4164b7e4bf5094f"
   },
   "source": [
    "**45(Part-1 to Part-6)Interpreting Model's insights and predictions:**\n",
    "\n",
    "Most of the respondents, have different circumstances for interpreting the model insights, out of which four circumstances are more prominent here, and they are, when exploring a new model or dataset , when the model is specifically designed to produce insights, while determining the worth of model in production and for all the models right before putting in production. "
   ]
  },
  {
   "cell_type": "code",
   "execution_count": null,
   "metadata": {
    "_kg_hide-input": true,
    "_uuid": "5e54220735b0ff7477ee645baf07b64a3eac00c9"
   },
   "outputs": [],
   "source": [
    "multichoice %>% \n",
    "select(Q1,Q45_Part_1:Q45_Part_6)%>%\n",
    "filter(Q1 == \"Female\"|Q1 == \"Male\")%>%\n",
    "gather(2:7, key = \"questions\", value = \"Metrics\")%>%\n",
    "group_by(Q1,Metrics)%>%\n",
    "filter(!is.na(Metrics))%>%\n",
    "summarise(Count = length(Metrics))%>%\n",
    "mutate(percent =  prop.table(Count)*100)%>%\n",
    "ggplot(aes(x = reorder(Metrics,-percent), y = percent, fill = Q1)) + \n",
    "geom_col(position = \"dodge\") + \n",
    "scale_fill_manual(values=c(\"#00AFBB\", \"#E7B800\"))+#coord_flip()+\n",
    "   #geom_text(aes(label = sprintf(\"%.2f%%\", percent)), hjust = 0.5,vjust = 0.1, size =3)+ \n",
    "      scale_x_discrete(labels = function(x) str_wrap(x, width = 15))+\n",
    "         theme2+ xlab(\"\") + ylab(\"Percent\")+\n",
    "              ggtitle(\"Interpreting Model's insights and predictions\")"
   ]
  },
  {
   "cell_type": "markdown",
   "metadata": {
    "_uuid": "d04cbb9104fd337d5c88820c7b45ed810440f97c"
   },
   "source": [
    "**46- Percent of data projects involved in exploring model insights:**\n",
    "\n",
    "Around 15-30% of the Wogglers, do not spend much time in exploring model insights. "
   ]
  },
  {
   "cell_type": "code",
   "execution_count": null,
   "metadata": {
    "_kg_hide-input": true,
    "_uuid": "3435b315aae4b5d31f83d93b71f51383a4008560"
   },
   "outputs": [],
   "source": [
    "multichoice %>% \n",
    "select(Q1,Q46)%>%\n",
    "filter(Q1 == \"Female\"|Q1 == \"Male\")%>%\n",
    "group_by(Q1,Q46)%>%\n",
    "filter(!is.na(Q46))%>%\n",
    "summarise(Count = length(Q46))%>%\n",
    "mutate(percent =  prop.table(Count)*100)%>%\n",
    "ggplot(aes(x = Q46, y = percent, fill = Q1)) + \n",
    "geom_col(position = \"dodge\") + \n",
    "scale_fill_manual(values=c(\"#00AFBB\", \"#E7B800\"))+\n",
    "      scale_x_discrete(labels = function(x) str_wrap(x, width = 10))+\n",
    "         theme2+ xlab(\"\") + ylab(\"Percent\")+\n",
    "              ggtitle(\"Percent of data projects involved in exploring model insights\")"
   ]
  },
  {
   "cell_type": "markdown",
   "metadata": {
    "_uuid": "d3b72e9118e776e825c6a01b20714f9b8e96bcea"
   },
   "source": [
    "**47(Part-1 to Part-15)Preferred methods for explaining and/or interpreting decisions made by ML models:**\n",
    "\n",
    "Females are more likely to examine feature correlations and examine individual model coefficients."
   ]
  },
  {
   "cell_type": "code",
   "execution_count": null,
   "metadata": {
    "_kg_hide-input": true,
    "_uuid": "fbc2346b4a3acf059e00fdd7d9617c1df09fe09a"
   },
   "outputs": [],
   "source": [
    "options(repr.plot.width=12, repr.plot.height=12)\n",
    "\n",
    "multichoice %>% \n",
    "select(Q1,Q47_Part_1:Q47_Part_15)%>%\n",
    "filter(Q1 == \"Female\"|Q1 == \"Male\")%>%\n",
    "gather(2:16, key = \"questions\", value = \"Metrics\")%>%\n",
    "group_by(Q1,Metrics)%>%\n",
    "filter(!is.na(Metrics))%>%\n",
    "summarise(Count = length(Metrics))%>%\n",
    "mutate(percent =  prop.table(Count)*100)%>%\n",
    "ggplot(aes(x = reorder(Metrics,percent), y = percent, fill = Q1)) + \n",
    "geom_col(position = \"dodge\") + \n",
    "scale_fill_manual(values=c(\"#00AFBB\", \"#E7B800\"))+coord_flip()+\n",
    "   #geom_text(aes(label = sprintf(\"%.2f%%\", percent)), hjust = 0.5,vjust = 0.1, size =3)+ \n",
    "      scale_x_discrete(labels = function(x) str_wrap(x, width = 60))+\n",
    "       theme5+ xlab(\"\") + ylab(\"Percent\")+\n",
    "        ggtitle(\"Preferred methods for explaining and/or interpreting decisions made by ML models\")"
   ]
  },
  {
   "cell_type": "markdown",
   "metadata": {
    "_uuid": "952652ef783a215509c56c6bc989b43ef9929960"
   },
   "source": [
    "**48- Consider ML models outputs difficult or impossible to explain:**\n",
    "\n",
    "Around **45-48%** of kagglers feel that they can explain the output of ML models most of the time. However, around **10-12%** of respondents are still there who **consider** that ML models are **\"black boxes\"**. The **percent of wogglers** who **do not have an opinion** in this subject is **higher(around 12-13%)** than that of their male counterparts."
   ]
  },
  {
   "cell_type": "code",
   "execution_count": null,
   "metadata": {
    "_kg_hide-input": true,
    "_uuid": "f987d8b0c320601df0e60078bdd157e3c34facee"
   },
   "outputs": [],
   "source": [
    "options(repr.plot.width=12, repr.plot.height=8)\n",
    "\n",
    "multichoice %>% \n",
    "select(Q1,Q48)%>%\n",
    "filter(Q1 == \"Female\"|Q1 == \"Male\")%>%\n",
    "group_by(Q1,Q48)%>%\n",
    "filter(!is.na(Q48))%>%\n",
    "summarise(Count = length(Q48))%>%\n",
    "mutate(percent =  prop.table(Count)*100)%>%\n",
    "ggplot(aes(x = Q48, y = percent, fill = Q1)) + \n",
    "geom_col(position = \"dodge\") + \n",
    "scale_fill_manual(values=c(\"#00AFBB\", \"#E7B800\"))+\n",
    "      scale_x_discrete(labels = function(x) str_wrap(x, width = 20))+\n",
    "         theme2+ xlab(\"\") + ylab(\"Percent\")+\n",
    "              ggtitle(\"Consider ML models outputs difficult or impossible to explain\")"
   ]
  },
  {
   "cell_type": "markdown",
   "metadata": {
    "_uuid": "77d1b9844de145cd7a8298c8aecde35c1777393d"
   },
   "source": [
    "**49-Tools and Methods used to make work easy to reproduce:**\n",
    "\n",
    "The percent of females who prefer to make their code well documented and human readable is higher than their male counterparts. "
   ]
  },
  {
   "cell_type": "code",
   "execution_count": null,
   "metadata": {
    "_kg_hide-input": true,
    "_uuid": "0723a73388703b522e3808a7a65ee1cdabfea787"
   },
   "outputs": [],
   "source": [
    "multichoice %>% \n",
    "select(Q1,Q49_Part_1:Q49_Part_12)%>%\n",
    "filter(Q1 == \"Female\"|Q1 == \"Male\")%>%\n",
    "gather(2:13, key = \"questions\", value = \"Tools\")%>%\n",
    "group_by(Q1,Tools)%>%\n",
    "filter(!is.na(Tools))%>%\n",
    "summarise(Count = length(Tools))%>%\n",
    "mutate(percent =  prop.table(Count)*100)%>%\n",
    "ggplot(aes(x = reorder(Tools,percent), y = percent, fill = Q1)) + \n",
    "geom_col(position = \"dodge\") + \n",
    "scale_fill_manual(values=c(\"#00AFBB\", \"#E7B800\"))+coord_flip()+\n",
    "   #geom_text(aes(label = sprintf(\"%.2f%%\", percent)), hjust = 0.5,vjust = 0.1, size =3)+ \n",
    "      scale_x_discrete(labels = function(x) str_wrap(x, width = 60))+\n",
    "       theme5+ xlab(\"\") + ylab(\"Percent\")+\n",
    "        ggtitle(\"Tools and Methods used to make work easy to reproduce\")"
   ]
  },
  {
   "cell_type": "markdown",
   "metadata": {
    "_uuid": "7ba57fc4f9bb2f9cdec900699f93235a992db9c1"
   },
   "source": [
    "**50-Barriers in making work easier to reuse and reproduce:**\n",
    "\n",
    "Most of the Kagglers, think that, it is too **time consuming** or there is **not enough incentives **for sharing their work, with the percentage of males being slightly higher than the females. Around **12-14%** of kagglers do feel that **none of the reasons** are applicable to them. Requiring too much **technical knowledge** is also a barrier that **prevents** the kaggler (slightly **high** percent in case of** females**) from making their work easier to reuse of reproduce."
   ]
  },
  {
   "cell_type": "code",
   "execution_count": null,
   "metadata": {
    "_kg_hide-input": true,
    "_uuid": "666c49df01f1d0e29ef021aa3c1177b687a1853d"
   },
   "outputs": [],
   "source": [
    "multichoice %>% \n",
    "select(Q1,Q50_Part_1:Q50_Part_8)%>%\n",
    "filter(Q1 == \"Female\"|Q1 == \"Male\")%>%\n",
    "gather(2:9, key = \"questions\", value = \"barriers\")%>%\n",
    "group_by(Q1,barriers)%>%\n",
    "filter(!is.na(barriers))%>%\n",
    "summarise(Count = length(barriers))%>%\n",
    "mutate(percent =  prop.table(Count)*100)%>%\n",
    "ggplot(aes(x = reorder(barriers,percent), y = percent, fill = Q1)) + \n",
    "geom_col(position = \"dodge\") + \n",
    "scale_fill_manual(values=c(\"#00AFBB\", \"#E7B800\"))+coord_flip()+\n",
    "   #geom_text(aes(label = sprintf(\"%.2f%%\", percent)), hjust = 0.5,vjust = 0.1, size =3)+ \n",
    "      scale_x_discrete(labels = function(x) str_wrap(x, width = 60))+\n",
    "       theme5+ xlab(\"\") + ylab(\"Percent\")+\n",
    "        ggtitle(\"Barriers in making work easier to reuse and reproduce\")"
   ]
  },
  {
   "cell_type": "markdown",
   "metadata": {
    "_uuid": "5e9bb4956ba6c70a8661ea3f94e56f2af578ed72"
   },
   "source": [
    "**CONCLUSION:**\n",
    "\n",
    "After, analyzing almost all questions from the survey and comparing the female kagglers w.r.t their male counterpart, it is clear that, the overall trend of answering the survey remains the same for both the genders. However, there are areas where we can find some differences either subtle or stark. Some of these areas are, use of R over Python, experience in coding to analyze the data, yearly compensation, educational background, less participation of non-computer science major females, use of ML tools and frameworks and so on. \n",
    "\n",
    "While it was fun to  analyze this subset of data and find some interesting insights, the basic question still lingers around that, \"Why the percent of females is so less?\". This question is not specific to Kaggle only, this trend is all over the places and we all know how to tackle it. \n",
    "\n",
    "With 26% of female students already  present in Kaggle, we can expect them to be around in this platform and actively take part to increase their domain knowledge. The 17% Data Scientists and 10% Data Analyst can actively participate in competitions, discussion forums etc. and can become a mentor for the newbies, because ladies have very few role models in this field, and having one definitely inspires those who are just starting off. "
   ]
  }
 ],
 "metadata": {
  "kernelspec": {
   "display_name": "R",
   "language": "R",
   "name": "ir"
  },
  "language_info": {
   "codemirror_mode": "r",
   "file_extension": ".r",
   "mimetype": "text/x-r-source",
   "name": "R",
   "pygments_lexer": "r",
   "version": "3.4.2"
  }
 },
 "nbformat": 4,
 "nbformat_minor": 1
}
